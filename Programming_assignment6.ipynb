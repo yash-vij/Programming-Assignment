{
 "cells": [
  {
   "cell_type": "markdown",
   "id": "d2c85a80",
   "metadata": {},
   "source": [
    "# Write a Python Program to Display Fibonacci Sequence Using Recursion."
   ]
  },
  {
   "cell_type": "code",
   "execution_count": 21,
   "id": "63448d7f",
   "metadata": {},
   "outputs": [
    {
     "name": "stdout",
     "output_type": "stream",
     "text": [
      "Enter the size of series : 20\n",
      "[0, 1, 1, 2, 3, 5, 8, 13, 21, 34, 55, 89, 144, 233, 377, 610, 987, 1597, 2584, 4181]\n"
     ]
    }
   ],
   "source": [
    "l = [0,1]\n",
    "a = int(input(\"Enter the size of series : \"))\n",
    "def feb_rec(b):\n",
    "    if(b > 2):\n",
    "        i = len(l)\n",
    "        num = l[i-1]+l[i-2]\n",
    "        l.append(num)\n",
    "        feb_rec(b-1)\n",
    "feb_rec(a)\n",
    "print(l)"
   ]
  },
  {
   "cell_type": "markdown",
   "id": "9c8cf155",
   "metadata": {},
   "source": [
    "# Write a Python Program to Find Factorial of Number Using Recursion."
   ]
  },
  {
   "cell_type": "code",
   "execution_count": 24,
   "id": "139dea83",
   "metadata": {},
   "outputs": [
    {
     "name": "stdout",
     "output_type": "stream",
     "text": [
      "Enter the number : 5\n",
      "120\n"
     ]
    }
   ],
   "source": [
    "a = int(input(\"Enter the number : \"))\n",
    "\n",
    "def factorial(b):\n",
    "    if b == 1 :\n",
    "        return b\n",
    "    else:\n",
    "        return b * factorial(b-1)\n",
    "    \n",
    "print(factorial(a))    "
   ]
  },
  {
   "cell_type": "markdown",
   "id": "69ce195c",
   "metadata": {},
   "source": [
    "# Write a Python Program to calculate your Body Mass Index."
   ]
  },
  {
   "cell_type": "code",
   "execution_count": 30,
   "id": "8250c670",
   "metadata": {},
   "outputs": [
    {
     "name": "stdout",
     "output_type": "stream",
     "text": [
      "Enter weight in Kgs65\n",
      "Enter height in meter1.66\n",
      "Body Mass Index is :  23.588329220496444\n",
      "Normal\n"
     ]
    }
   ],
   "source": [
    "weight = float(input(\"Enter weight in Kgs\"))\n",
    "height = float(input(\"Enter height in meter\"))\n",
    "bmi = weight/(height**2)\n",
    "print(\"Body Mass Index is : \",bmi)\n",
    "if(bmi>= 18.5 and bmi < 25):\n",
    "    print(\"Normal\")\n",
    "elif(bmi>= 25 and bmi < 30):\n",
    "    print(\"Overweight\")\n",
    "elif(bmi>= 30):\n",
    "    print(\"Obese class 1 \") "
   ]
  },
  {
   "cell_type": "markdown",
   "id": "fdf319b3",
   "metadata": {},
   "source": [
    "# Write a Python Program to calculate the natural logarithm of any number."
   ]
  },
  {
   "cell_type": "code",
   "execution_count": 36,
   "id": "5892a569",
   "metadata": {},
   "outputs": [
    {
     "name": "stdout",
     "output_type": "stream",
     "text": [
      "Enter the number : 3\n",
      "1.0986122886681098\n"
     ]
    }
   ],
   "source": [
    "import math as mt\n",
    "a = int(input(\"Enter the number : \"))\n",
    "print(mt.log(a))"
   ]
  },
  {
   "cell_type": "markdown",
   "id": "4b7abf48",
   "metadata": {},
   "source": [
    "# Write a Python Program for cube sum of first n natural numbers."
   ]
  },
  {
   "cell_type": "code",
   "execution_count": 40,
   "id": "90b797d6",
   "metadata": {},
   "outputs": [
    {
     "name": "stdout",
     "output_type": "stream",
     "text": [
      "Enter range : 10\n",
      "Sum of the cube of 10  natural number is :  3025\n"
     ]
    }
   ],
   "source": [
    "a = int(input(\"Enter range : \"))\n",
    "sum = 0\n",
    "for i in range(1,a+1):\n",
    "    sum = sum + (i**3)\n",
    "print(\"Sum of the cube of\",a ,\" natural number is : \",sum)    \n",
    "    "
   ]
  },
  {
   "cell_type": "code",
   "execution_count": null,
   "id": "7860d114",
   "metadata": {},
   "outputs": [],
   "source": []
  }
 ],
 "metadata": {
  "kernelspec": {
   "display_name": "Python 3 (ipykernel)",
   "language": "python",
   "name": "python3"
  },
  "language_info": {
   "codemirror_mode": {
    "name": "ipython",
    "version": 3
   },
   "file_extension": ".py",
   "mimetype": "text/x-python",
   "name": "python",
   "nbconvert_exporter": "python",
   "pygments_lexer": "ipython3",
   "version": "3.10.6"
  }
 },
 "nbformat": 4,
 "nbformat_minor": 5
}
