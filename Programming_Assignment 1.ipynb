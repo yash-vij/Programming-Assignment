{
 "cells": [
  {
   "cell_type": "markdown",
   "id": "698e781b",
   "metadata": {},
   "source": [
    "1. Write a python program to print 'Hello Python'"
   ]
  },
  {
   "cell_type": "code",
   "execution_count": 17,
   "id": "e616a1f5",
   "metadata": {},
   "outputs": [
    {
     "name": "stdout",
     "output_type": "stream",
     "text": [
      "Hello Python\n"
     ]
    }
   ],
   "source": [
    "print(\"Hello Python\")"
   ]
  },
  {
   "cell_type": "markdown",
   "id": "3f74bc94",
   "metadata": {},
   "source": [
    "2. Write a Python program to do arithmetical operations addition and division."
   ]
  },
  {
   "cell_type": "code",
   "execution_count": 18,
   "id": "75c1fc91",
   "metadata": {},
   "outputs": [
    {
     "name": "stdout",
     "output_type": "stream",
     "text": [
      "5\n",
      "3.0\n"
     ]
    }
   ],
   "source": [
    "def add(a,b):\n",
    "    return a+b\n",
    "def div(a,b):\n",
    "    return a/b\n",
    "print(add(2,3))\n",
    "print(div(6,2))"
   ]
  },
  {
   "cell_type": "markdown",
   "id": "fb7df986",
   "metadata": {},
   "source": [
    "3. Write a Python program to find the area of a triangle"
   ]
  },
  {
   "cell_type": "code",
   "execution_count": 20,
   "id": "ac21fddd",
   "metadata": {},
   "outputs": [
    {
     "name": "stdout",
     "output_type": "stream",
     "text": [
      "Enter the sides of the triangle\n",
      "10\n",
      "12\n",
      "13\n"
     ]
    },
    {
     "data": {
      "text/plain": [
       "1531.3281230071168"
      ]
     },
     "execution_count": 20,
     "metadata": {},
     "output_type": "execute_result"
    }
   ],
   "source": [
    "def area_of_triangle(a,b,c):\n",
    "    s = ((a+b+c)/2)\n",
    "    return s*(s-a)*(s-b)*(s-c) ** 0.5\n",
    "print(\"Enter the sides of the triangle\")\n",
    "a = int(input())\n",
    "b = int(input())\n",
    "c = int(input())\n",
    "area_of_triangle(a,b,c)"
   ]
  },
  {
   "cell_type": "markdown",
   "id": "a0c12ced",
   "metadata": {},
   "source": [
    "4.  Write a Python program to swap two variables"
   ]
  },
  {
   "cell_type": "code",
   "execution_count": 21,
   "id": "f865cbd8",
   "metadata": {},
   "outputs": [
    {
     "name": "stdout",
     "output_type": "stream",
     "text": [
      "Enter two variables : \n",
      "12\n",
      "56\n",
      "After swapping variables are :  56 12\n"
     ]
    }
   ],
   "source": [
    "print(\"Enter two variables : \")\n",
    "a = input()\n",
    "b = input()\n",
    "temp = a\n",
    "a=b\n",
    "b=temp\n",
    "print(\"After swapping variables are : \",a,b)"
   ]
  },
  {
   "cell_type": "markdown",
   "id": "2ef35467",
   "metadata": {},
   "source": [
    "5. Write a Python program to generate a random number"
   ]
  },
  {
   "cell_type": "code",
   "execution_count": 22,
   "id": "158f0320",
   "metadata": {},
   "outputs": [
    {
     "name": "stdout",
     "output_type": "stream",
     "text": [
      "12\n"
     ]
    }
   ],
   "source": [
    "import random\n",
    "a = random.randint(0,100)\n",
    "print(a)"
   ]
  },
  {
   "cell_type": "code",
   "execution_count": null,
   "id": "9be58bd5",
   "metadata": {},
   "outputs": [],
   "source": []
  },
  {
   "cell_type": "code",
   "execution_count": null,
   "id": "f316de18",
   "metadata": {},
   "outputs": [],
   "source": []
  }
 ],
 "metadata": {
  "kernelspec": {
   "display_name": "Python 3 (ipykernel)",
   "language": "python",
   "name": "python3"
  },
  "language_info": {
   "codemirror_mode": {
    "name": "ipython",
    "version": 3
   },
   "file_extension": ".py",
   "mimetype": "text/x-python",
   "name": "python",
   "nbconvert_exporter": "python",
   "pygments_lexer": "ipython3",
   "version": "3.10.6"
  }
 },
 "nbformat": 4,
 "nbformat_minor": 5
}
