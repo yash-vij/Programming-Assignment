{
 "cells": [
  {
   "cell_type": "markdown",
   "id": "255339eb",
   "metadata": {},
   "source": [
    "### Write a Python program to find words which are greater than given length k."
   ]
  },
  {
   "cell_type": "code",
   "execution_count": 12,
   "id": "bf3c5a0e",
   "metadata": {},
   "outputs": [
    {
     "name": "stdout",
     "output_type": "stream",
     "text": [
      "Enter the length : 2\n",
      "['Write', 'Python', 'program', 'find', 'words', 'which', 'are', 'greater', 'than', 'given', 'length']\n"
     ]
    }
   ],
   "source": [
    "data = \"Write a Python program to find words which are greater than given length k\"\n",
    "data1 = data.split()\n",
    "k = int(input(\"Enter the length : \"))\n",
    "new_data = []\n",
    "\n",
    "for i in range(0,len(data1)):\n",
    "    if(len(data1[i]) > k):\n",
    "        new_data.append(data1[i])\n",
    "print(new_data)        "
   ]
  },
  {
   "cell_type": "markdown",
   "id": "eb04e7f3",
   "metadata": {},
   "source": [
    "### \tWrite a Python program for removing i-th character from a string."
   ]
  },
  {
   "cell_type": "code",
   "execution_count": 28,
   "id": "ce475dd9",
   "metadata": {},
   "outputs": [
    {
     "name": "stdout",
     "output_type": "stream",
     "text": [
      "Enter the position : 4\n",
      "WritaPythonprogramforremovingi-thcharacterfromastring\n"
     ]
    }
   ],
   "source": [
    "str1 = \"WriteaPythonprogramforremovingi-thcharacterfromastring\"\n",
    "i = int(input(\"Enter the position : \"))\n",
    "str_lt = [x for x in str1]\n",
    "for j in range(0,len(str_lt)):\n",
    "    if( i == j):\n",
    "        str_lt.pop(j)\n",
    "new_str = \"\".join([str(k) for k in str_lt] ) \n",
    "print(new_str)"
   ]
  },
  {
   "cell_type": "markdown",
   "id": "dc8a973a",
   "metadata": {},
   "source": [
    "### \tWrite a Python program to split and join a string."
   ]
  },
  {
   "cell_type": "code",
   "execution_count": 29,
   "id": "29a87091",
   "metadata": {},
   "outputs": [
    {
     "name": "stdout",
     "output_type": "stream",
     "text": [
      "Splitted string is :  ['Write', 'a', 'Python', 'program', 'to', 'split', 'and', 'join', 'a', 'string']\n",
      "Adding - instead of widespace\n",
      "String after join :  Write-a-Python-program-to-split-and-join-a-string\n"
     ]
    }
   ],
   "source": [
    "str2 = \"Write a Python program to split and join a string\"\n",
    "str_split = str2.split()\n",
    "print(\"Splitted string is : \",str_split)\n",
    "print(\"Adding - instead of widespace\")\n",
    "new_str2 = \"-\".join([str(i) for i in str_split])\n",
    "print(\"String after join : \",new_str2)"
   ]
  },
  {
   "cell_type": "markdown",
   "id": "8b851f51",
   "metadata": {},
   "source": [
    "### Write a Python to check if a given string is binary string or not."
   ]
  },
  {
   "cell_type": "code",
   "execution_count": 48,
   "id": "2eb4d99c",
   "metadata": {},
   "outputs": [
    {
     "name": "stdout",
     "output_type": "stream",
     "text": [
      "Not a binary string\n"
     ]
    }
   ],
   "source": [
    "l = \"01010101001010100\"\n",
    "flag = 0\n",
    "l_sp = [l[i] for i in range(0,len(l))]\n",
    "for k in range(0,len(l_sp)):\n",
    "    if l_sp[k] not in ['0','1']:\n",
    "        flag = 1\n",
    "if(flag == 1):\n",
    "    print(\"Not a binary string\")\n",
    "else:\n",
    "    print(\"Binary string\")"
   ]
  },
  {
   "cell_type": "markdown",
   "id": "291b3cea",
   "metadata": {},
   "source": [
    "### Write a Python program to find uncommon words from two Strings."
   ]
  },
  {
   "cell_type": "code",
   "execution_count": 56,
   "id": "55d902b3",
   "metadata": {},
   "outputs": [
    {
     "name": "stdout",
     "output_type": "stream",
     "text": [
      "Uncommon words are :  ['are', 'you', '?', 'is', 'they', '!']\n"
     ]
    }
   ],
   "source": [
    "str1 = \"Hello how are you ?\"\n",
    "str2 = \"Hello how is they !\"\n",
    "str1_sp = str1.split()\n",
    "str2_sp = str2.split()\n",
    "new_d = []\n",
    "for i in str1_sp:\n",
    "    if i not in str2_sp:\n",
    "        new_d.append(i)\n",
    "for i in str2_sp:\n",
    "    if i not in str1_sp:\n",
    "        new_d.append(i)        \n",
    "print(\"Uncommon words are : \",new_d)        "
   ]
  },
  {
   "cell_type": "markdown",
   "id": "8c0d6015",
   "metadata": {},
   "source": [
    "### Write a Python to find all duplicate characters in string."
   ]
  },
  {
   "cell_type": "code",
   "execution_count": 76,
   "id": "56f27b93",
   "metadata": {},
   "outputs": [
    {
     "name": "stdout",
     "output_type": "stream",
     "text": [
      "Duplicate characters are :  ['r', 'i', 't', 'e', 'a', 'P', 'y', 'h', 'o', 'n', 'f', 'd', 'l', 'u', 'p', 'c', 's', 'g']\n"
     ]
    }
   ],
   "source": [
    "data = \"Write a Python to find all duplicate characters in string\"\n",
    "data = \"\".join(data.split())\n",
    "data1 = [d for d in data]\n",
    "l = []\n",
    "\n",
    "dup = []\n",
    "for i in range(0,len(data1)):\n",
    "    flag = 0                 \n",
    "    l.append(data[i])\n",
    "    for j in range(1,len(data1)):\n",
    "        if data1[j] in l:\n",
    "            flag = 1\n",
    "    if flag == 1:\n",
    "        if data[i] not in dup:\n",
    "            dup.append(data[i])\n",
    "        \n",
    "print(\"Duplicate characters are : \",dup)        "
   ]
  },
  {
   "cell_type": "markdown",
   "id": "309e1db0",
   "metadata": {},
   "source": [
    "### Write a Python Program to check if a string contains any special character."
   ]
  },
  {
   "cell_type": "code",
   "execution_count": 93,
   "id": "f83286cd",
   "metadata": {
    "scrolled": true
   },
   "outputs": [
    {
     "name": "stdout",
     "output_type": "stream",
     "text": [
      "Special character is used\n",
      "Special characters are : ['^', '(', '%', '$', '#', '@']\n"
     ]
    }
   ],
   "source": [
    "st = \"Write a P^ython P(rogram to check% if a string$ contains #a@ny special character\"\n",
    "special = \"[@_!#$%^&*()<>?/\\|}{~:]\"\n",
    "spe_used=[]\n",
    "count = 0\n",
    "data = [d for d in st]\n",
    "data\n",
    "for i in range(len(data)):\n",
    "    if(data[i] in special):\n",
    "        spe_used.append(data[i])\n",
    "        count = count +1\n",
    "if count >0:\n",
    "    print(\"Special character is used\")\n",
    "    print(\"Special characters are :\",spe_used)\n",
    "else:\n",
    "    print(\"Special character is not used\")   \n",
    "    "
   ]
  },
  {
   "cell_type": "code",
   "execution_count": null,
   "id": "ea8b33bd",
   "metadata": {},
   "outputs": [],
   "source": []
  },
  {
   "cell_type": "code",
   "execution_count": null,
   "id": "c5aaf572",
   "metadata": {},
   "outputs": [],
   "source": []
  }
 ],
 "metadata": {
  "kernelspec": {
   "display_name": "Python 3 (ipykernel)",
   "language": "python",
   "name": "python3"
  },
  "language_info": {
   "codemirror_mode": {
    "name": "ipython",
    "version": 3
   },
   "file_extension": ".py",
   "mimetype": "text/x-python",
   "name": "python",
   "nbconvert_exporter": "python",
   "pygments_lexer": "ipython3",
   "version": "3.9.12"
  }
 },
 "nbformat": 4,
 "nbformat_minor": 5
}
