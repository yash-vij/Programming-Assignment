{
 "cells": [
  {
   "cell_type": "markdown",
   "id": "f4c64bfe",
   "metadata": {},
   "source": [
    "### 1.\tWrite a Python program to Extract Unique values dictionary values."
   ]
  },
  {
   "cell_type": "code",
   "execution_count": 27,
   "id": "402b002b",
   "metadata": {},
   "outputs": [
    {
     "data": {
      "text/plain": [
       "[12, 23, 34, 43, 67, 123, 231, 232, 321, 324, 342, 546, 2343]"
      ]
     },
     "execution_count": 27,
     "metadata": {},
     "output_type": "execute_result"
    }
   ],
   "source": [
    "di = {\n",
    "    'key1':[23,231,43,232,12,23,23],\n",
    "    'key2': [23,324,546,342,12,12,12],\n",
    "    'key3': [34,2343,67,342,321,123,123,123,12,23,23,231]\n",
    "}\n",
    "data = list({a for i in di.values() for a in i})\n",
    "data.sort()\n",
    "data"
   ]
  },
  {
   "cell_type": "markdown",
   "id": "834838a1",
   "metadata": {},
   "source": [
    "### Write a Python program to find the sum of all items in a dictionary"
   ]
  },
  {
   "cell_type": "code",
   "execution_count": 2,
   "id": "64b3d750",
   "metadata": {},
   "outputs": [
    {
     "name": "stdout",
     "output_type": "stream",
     "text": [
      "Sum is :  10534\n"
     ]
    }
   ],
   "source": [
    "sum = 0\n",
    "data2 = {\n",
    "    'key1':232,\n",
    "    'key2':234,\n",
    "    'key3':768,\n",
    "    'key4':324,\n",
    "    'key5':8976\n",
    "}\n",
    "for ele in data2.values():\n",
    "    sum = sum + ele\n",
    "    \n",
    "print(\"Sum is : \",sum)    "
   ]
  },
  {
   "cell_type": "markdown",
   "id": "356f0e17",
   "metadata": {},
   "source": [
    "### Write a Python program to Merging two Dictionaries."
   ]
  },
  {
   "cell_type": "code",
   "execution_count": 5,
   "id": "2c2a3050",
   "metadata": {},
   "outputs": [
    {
     "data": {
      "text/plain": [
       "{'key1': 'asd', 'key2': 'sdf'}"
      ]
     },
     "execution_count": 5,
     "metadata": {},
     "output_type": "execute_result"
    }
   ],
   "source": [
    "dict1 = {\n",
    "    'key1':'asd'\n",
    "}\n",
    "dict2 = {\n",
    "    'key2':'sdf'\n",
    "}\n",
    "dict1|dict2"
   ]
  },
  {
   "cell_type": "markdown",
   "id": "109ee839",
   "metadata": {},
   "source": [
    "### Write a Python program to convert key-values list to flat dictionary"
   ]
  },
  {
   "cell_type": "code",
   "execution_count": 1,
   "id": "4817b5d2",
   "metadata": {},
   "outputs": [
    {
     "data": {
      "text/plain": [
       "{1: 34, 2: 324, 3: 543, 5: 64}"
      ]
     },
     "execution_count": 1,
     "metadata": {},
     "output_type": "execute_result"
    }
   ],
   "source": [
    "dic1 = {\n",
    "    'key1' : [1,2,3,5],\n",
    "    'key2': [34,324,543,64,32]\n",
    "}\n",
    "new_dic = dict(zip(dic1['key1'],dic1['key2']))\n",
    "new_dic"
   ]
  },
  {
   "cell_type": "markdown",
   "id": "c628d2d1",
   "metadata": {},
   "source": [
    "### Write a Python program to insertion at the beginning in OrderedDict"
   ]
  },
  {
   "cell_type": "code",
   "execution_count": 13,
   "id": "3e5719b7",
   "metadata": {},
   "outputs": [
    {
     "name": "stdout",
     "output_type": "stream",
     "text": [
      "key4 : 123\n",
      "key1 : 12\n",
      "key2 : 213\n",
      "key3 : 54\n"
     ]
    }
   ],
   "source": [
    "from collections import OrderedDict\n",
    "dic1 = OrderedDict([('key1','12',),('key2','213'),('key3','54')])\n",
    "dic1.update({'key4':123})\n",
    "dic1.move_to_end('key4',last= False)\n",
    "dic1\n",
    "for k,v in dic1.items():\n",
    "    print(k,\":\",v)"
   ]
  },
  {
   "cell_type": "markdown",
   "id": "fc3e9e2f",
   "metadata": {},
   "source": [
    "### Write a Python program to check order of character in string using OrderedDict()"
   ]
  },
  {
   "cell_type": "code",
   "execution_count": 17,
   "id": "9bafe853",
   "metadata": {},
   "outputs": [
    {
     "name": "stdout",
     "output_type": "stream",
     "text": [
      "Pattern does not match\n"
     ]
    }
   ],
   "source": [
    "from collections import OrderedDict\n",
    "data = \"somestringofdata\"\n",
    "pattern = 'em'\n",
    "dic_data = OrderedDict.fromkeys(data)\n",
    "count = 0\n",
    "for i in dic_data.keys():\n",
    "    if(i == pattern[count]):\n",
    "        count = count +1\n",
    "if(count == len(pattern)):\n",
    "    print(\"Same pattern\")\n",
    "else:\n",
    "    print(\"Pattern does not match\")"
   ]
  },
  {
   "cell_type": "markdown",
   "id": "158d60ae",
   "metadata": {},
   "source": [
    "### Write a Python program to sort Python Dictionaries by Key or Value"
   ]
  },
  {
   "cell_type": "code",
   "execution_count": 31,
   "id": "eeadfb09",
   "metadata": {},
   "outputs": [
    {
     "name": "stdout",
     "output_type": "stream",
     "text": [
      "Sorted dictionary by Keys :  OrderedDict([('A', 10), ('B', 6), ('C', 9)])\n"
     ]
    }
   ],
   "source": [
    "from collections import OrderedDict\n",
    "dic = {'A':10,'C':9,'B':6}\n",
    "sorted_key_dict = OrderedDict(sorted(dic.items()))\n",
    "print(\"Sorted dictionary by Keys : \",sorted_key_dict)\n"
   ]
  },
  {
   "cell_type": "code",
   "execution_count": null,
   "id": "023aeb24",
   "metadata": {},
   "outputs": [],
   "source": []
  }
 ],
 "metadata": {
  "kernelspec": {
   "display_name": "Python 3 (ipykernel)",
   "language": "python",
   "name": "python3"
  },
  "language_info": {
   "codemirror_mode": {
    "name": "ipython",
    "version": 3
   },
   "file_extension": ".py",
   "mimetype": "text/x-python",
   "name": "python",
   "nbconvert_exporter": "python",
   "pygments_lexer": "ipython3",
   "version": "3.9.12"
  }
 },
 "nbformat": 4,
 "nbformat_minor": 5
}
