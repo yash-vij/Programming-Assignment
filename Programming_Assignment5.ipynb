{
 "cells": [
  {
   "cell_type": "markdown",
   "id": "71f311d2",
   "metadata": {},
   "source": [
    "Write a Python Program to Find LCM"
   ]
  },
  {
   "cell_type": "code",
   "execution_count": 17,
   "id": "7b87851f",
   "metadata": {},
   "outputs": [
    {
     "name": "stdout",
     "output_type": "stream",
     "text": [
      "Enter the number of elements to find their LCM : 5\n",
      "Enter elements : \n",
      "12\n",
      "3\n",
      "4\n",
      "16\n",
      "2\n",
      "Data is :  [12, 3, 4, 16, 2]\n",
      "LCM is :  48\n"
     ]
    }
   ],
   "source": [
    "l = []\n",
    "a = int(input(\"Enter the number of elements to find their LCM : \"))\n",
    "print(\"Enter elements : \")\n",
    "for i in range(0,a):\n",
    "    ele = int(input())\n",
    "    l.append(ele)\n",
    "def lcm(num1,num2):\n",
    "    if(num1 > num2):\n",
    "        greater = num1\n",
    "    else:\n",
    "        greater = num2\n",
    "    while(True):\n",
    "        \n",
    "        if(greater % num1 == 0) and (greater % num2 == 0):\n",
    "            lcm = greater \n",
    "            break\n",
    "        else:\n",
    "            greater = greater + 1\n",
    "    return lcm      \n",
    "print(\"Data is : \",l)\n",
    "lc = l[0]            \n",
    "for i in range(1,len(l)):\n",
    "    lc = lcm(lc,l[i])\n",
    "print(\"LCM is : \",lc)    "
   ]
  },
  {
   "cell_type": "markdown",
   "id": "1a9cd3dc",
   "metadata": {},
   "source": [
    "Write a Python Program to Find HCF?"
   ]
  },
  {
   "cell_type": "code",
   "execution_count": 52,
   "id": "b77212bc",
   "metadata": {},
   "outputs": [
    {
     "name": "stdout",
     "output_type": "stream",
     "text": [
      "2\n",
      "2\n",
      "4\n",
      "4\n",
      "8\n"
     ]
    }
   ],
   "source": [
    "def HCF(num1, num2):\n",
    "  \n",
    "        while(True):\n",
    "            if(num1 < num2):\n",
    "                smaller = num1\n",
    "            else:\n",
    "                smaller = num2\n",
    "            for i in range(smaller,0,-1):\n",
    "                if(num1 % i == 0 and num2 % i == 0):\n",
    "                    hcf = i\n",
    "                    break\n",
    "            break\n",
    "        return hcf        \n",
    "print(HCF(2,30))\n",
    "print(HCF(332,234))\n",
    "print(HCF(12,20))\n",
    "print(HCF(12,16))\n",
    "print(HCF(24,104))"
   ]
  },
  {
   "cell_type": "markdown",
   "id": "39a6d45f",
   "metadata": {},
   "source": [
    "Write a Python Program to Convert Decimal to Binary, Octal and Hexadecimal."
   ]
  },
  {
   "cell_type": "code",
   "execution_count": 75,
   "id": "35a899ec",
   "metadata": {},
   "outputs": [
    {
     "name": "stdout",
     "output_type": "stream",
     "text": [
      "121\n",
      "Binary number : \n",
      "Binary :  1111001  Octal :  171  Hexa :  79\n"
     ]
    }
   ],
   "source": [
    "a = int(input())\n",
    "print(\"Binary number : \")\n",
    "def binary(a):\n",
    "    count = 0\n",
    "    num=0\n",
    "    while(a>0):\n",
    "        rem = a%2\n",
    "        a = int(a/2)\n",
    "        num = (rem*(10**count))+num\n",
    "        count = count+1\n",
    "    return num\n",
    "def octal(a):\n",
    "    count = 0\n",
    "    num=0\n",
    "    while(a>0):\n",
    "        rem = a%8\n",
    "        a = int(a/8)\n",
    "        num = (rem*(10**count))+num\n",
    "        count = count+1\n",
    "    return num\n",
    "def hexa(a):\n",
    "    count = 0\n",
    "    num=0\n",
    "    while(a>0):\n",
    "        rem = a%16\n",
    "        a = int(a/16)\n",
    "        num = (rem*(10**count))+num\n",
    "        count = count+1\n",
    "    return num    \n",
    "print(\"Binary : \",binary(a),\" Octal : \",octal(a),\" Hexa : \",hexa(a))"
   ]
  },
  {
   "cell_type": "markdown",
   "id": "d4c37752",
   "metadata": {},
   "source": [
    "Write a Python Program To Find ASCII value of a character."
   ]
  },
  {
   "cell_type": "code",
   "execution_count": 80,
   "id": "ef39aecf",
   "metadata": {},
   "outputs": [
    {
     "name": "stdout",
     "output_type": "stream",
     "text": [
      "Enter a character : Z\n",
      "ASCII value is :  90\n"
     ]
    }
   ],
   "source": [
    "a = input(\"Enter a character : \")\n",
    "print(\"ASCII value is : \",ord(a))"
   ]
  },
  {
   "cell_type": "markdown",
   "id": "5187b459",
   "metadata": {},
   "source": [
    "Write a Python Program to Make a Simple Calculator with 4 basic mathematical operations."
   ]
  },
  {
   "cell_type": "code",
   "execution_count": 91,
   "id": "e7f0031b",
   "metadata": {},
   "outputs": [
    {
     "name": "stdout",
     "output_type": "stream",
     "text": [
      "Enter length of data : 5\n",
      "21\n",
      "45\n",
      "78\n",
      "56\n",
      "23\n",
      "[21, 45, 78, 56, 23]\n",
      "Select ooption : 1.Addition, 2. Subtraction, 3.Multiplication, 4.Division2\n",
      "Subtraction :  -181\n"
     ]
    }
   ],
   "source": [
    "def add(l):\n",
    "    sum = 0\n",
    "    for i in range(0,len(l)):\n",
    "        sum = sum + l[i]\n",
    "    return sum\n",
    "def sub(l):\n",
    "    total = l[0]\n",
    "    for i in range(1,len(l)):\n",
    "        total = total - l[i]\n",
    "    return total \n",
    "def mul(l):\n",
    "    total = 1\n",
    "    for i in range(0,len(l)):\n",
    "        total = total * l[i]\n",
    "    return total  \n",
    "def div(l):\n",
    "    total = 1\n",
    "    for i in range(0,len(l)):\n",
    "        total = total/ l[i]\n",
    "    return total    \n",
    "l = []\n",
    "size = int(input(\"Enter length of data : \"))\n",
    "for i in range(0,size):\n",
    "    a = int(input())\n",
    "    l.append(a)\n",
    "print(l)    \n",
    "op = int(input(\"Select ooption : 1.Addition, 2. Subtraction, 3.Multiplication, 4.Division\"))\n",
    "if(op == 1):\n",
    "    print(\"Addition : \",add(l))\n",
    "elif(op == 2):\n",
    "    print(\"Subtraction : \",sub(l))\n",
    "elif(op == 3):\n",
    "    print(\"Multiplication : \",mul(l))\n",
    "elif(op == 4):\n",
    "    print(\"Division : \",div(l))\n",
    "else :\n",
    "    print(\"Please select correct option\")"
   ]
  },
  {
   "cell_type": "code",
   "execution_count": null,
   "id": "bbacc5d6",
   "metadata": {},
   "outputs": [],
   "source": []
  },
  {
   "cell_type": "code",
   "execution_count": null,
   "id": "52236a8f",
   "metadata": {},
   "outputs": [],
   "source": []
  }
 ],
 "metadata": {
  "kernelspec": {
   "display_name": "Python 3 (ipykernel)",
   "language": "python",
   "name": "python3"
  },
  "language_info": {
   "codemirror_mode": {
    "name": "ipython",
    "version": 3
   },
   "file_extension": ".py",
   "mimetype": "text/x-python",
   "name": "python",
   "nbconvert_exporter": "python",
   "pygments_lexer": "ipython3",
   "version": "3.10.6"
  }
 },
 "nbformat": 4,
 "nbformat_minor": 5
}
