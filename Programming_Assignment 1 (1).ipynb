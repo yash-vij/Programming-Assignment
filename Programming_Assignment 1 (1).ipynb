{
 "cells": [
  {
   "cell_type": "markdown",
   "id": "e6bfe3ca",
   "metadata": {},
   "source": [
    "# 1 . Write a Python program to print \"Hello Python\""
   ]
  },
  {
   "cell_type": "code",
   "execution_count": 2,
   "id": "99aadb33",
   "metadata": {},
   "outputs": [
    {
     "name": "stdout",
     "output_type": "stream",
     "text": [
      "Hello Python\n"
     ]
    }
   ],
   "source": [
    "print(\"Hello Python\")"
   ]
  },
  {
   "cell_type": "markdown",
   "id": "eb8ac4e9",
   "metadata": {},
   "source": [
    "2. Write a Python program to do arithmetical operations addition and division."
   ]
  },
  {
   "cell_type": "code",
   "execution_count": 3,
   "id": "63702d77",
   "metadata": {},
   "outputs": [
    {
     "name": "stdout",
     "output_type": "stream",
     "text": [
      "5\n",
      "3.0\n"
     ]
    }
   ],
   "source": [
    "def add(a,b):\n",
    "    return a+b\n",
    "def div(a,b):\n",
    "    return a/b\n",
    "print(add(2,3))\n",
    "print(div(6,2))"
   ]
  },
  {
   "cell_type": "raw",
   "id": "4e44923b",
   "metadata": {},
   "source": [
    "3. Write a Python program to find the area of a triangle"
   ]
  },
  {
   "cell_type": "code",
   "execution_count": 6,
   "id": "50c44356",
   "metadata": {},
   "outputs": [
    {
     "name": "stdout",
     "output_type": "stream",
     "text": [
      "Enter the sides of the triangle\n",
      "2\n",
      "3\n",
      "4\n"
     ]
    },
    {
     "data": {
      "text/plain": [
       "11.93242693252299"
      ]
     },
     "execution_count": 6,
     "metadata": {},
     "output_type": "execute_result"
    }
   ],
   "source": [
    "def area_of_triangle(a,b,c):\n",
    "    s = ((a+b+c)/2)\n",
    "    return s*(s-a)*(s-b)*(s-c) ** 0.5\n",
    "print(\"Enter the sides of the triangle\")\n",
    "a = int(input())\n",
    "b = int(input())\n",
    "c = int(input())\n",
    "area_of_triangle(a,b,c)"
   ]
  },
  {
   "cell_type": "raw",
   "id": "d792549a",
   "metadata": {},
   "source": [
    "4.  Write a Python program to swap two variables"
   ]
  },
  {
   "cell_type": "code",
   "execution_count": 7,
   "id": "5178ab2d",
   "metadata": {},
   "outputs": [
    {
     "name": "stdout",
     "output_type": "stream",
     "text": [
      "Enter two variables : \n",
      "23\n",
      "34\n",
      "After swapping variables are :  34 23\n"
     ]
    }
   ],
   "source": [
    "print(\"Enter two variables : \")\n",
    "a = input()\n",
    "b = input()\n",
    "temp = a\n",
    "a=b\n",
    "b=temp\n",
    "print(\"After swapping variables are : \",a,b)"
   ]
  },
  {
   "cell_type": "raw",
   "id": "d9d6ba9f",
   "metadata": {},
   "source": [
    "5. Write a Python program to generate a random number"
   ]
  },
  {
   "cell_type": "code",
   "execution_count": 11,
   "id": "149fb007",
   "metadata": {},
   "outputs": [
    {
     "name": "stdout",
     "output_type": "stream",
     "text": [
      "33\n"
     ]
    }
   ],
   "source": [
    "import random\n",
    "a = random.randint(0,100)\n",
    "print(a)"
   ]
  },
  {
   "cell_type": "code",
   "execution_count": null,
   "id": "3d37a52e",
   "metadata": {},
   "outputs": [],
   "source": []
  }
 ],
 "metadata": {
  "kernelspec": {
   "display_name": "Python 3 (ipykernel)",
   "language": "python",
   "name": "python3"
  },
  "language_info": {
   "codemirror_mode": {
    "name": "ipython",
    "version": 3
   },
   "file_extension": ".py",
   "mimetype": "text/x-python",
   "name": "python",
   "nbconvert_exporter": "python",
   "pygments_lexer": "ipython3",
   "version": "3.10.6"
  }
 },
 "nbformat": 4,
 "nbformat_minor": 5
}
