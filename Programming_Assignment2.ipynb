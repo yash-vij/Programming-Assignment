{
 "cells": [
  {
   "cell_type": "markdown",
   "id": "4fa7d8ab",
   "metadata": {},
   "source": [
    "1. Write a Python program to convert kilometers to miles."
   ]
  },
  {
   "cell_type": "code",
   "execution_count": 4,
   "id": "4f5e07a3",
   "metadata": {},
   "outputs": [
    {
     "name": "stdout",
     "output_type": "stream",
     "text": [
      "Enter distance in kilometers : 45\n",
      "Distance in miles is :  27.96170355  miles\n"
     ]
    }
   ],
   "source": [
    "dis = float(input(\"Enter distance in kilometers : \"))\n",
    "dis_miles = dis * 0.62137119\n",
    "print(\"Distance in miles is : \",dis_miles,\" miles\")"
   ]
  },
  {
   "cell_type": "markdown",
   "id": "586b8330",
   "metadata": {},
   "source": [
    "2. Write a Python program to convert Celsius to Fahrenheit."
   ]
  },
  {
   "cell_type": "code",
   "execution_count": 8,
   "id": "05fb5ac4",
   "metadata": {},
   "outputs": [
    {
     "name": "stdout",
     "output_type": "stream",
     "text": [
      "Enter temperature in Celsius : 45\n",
      "Temperature in Fahrenheit is  113.0  F\n"
     ]
    }
   ],
   "source": [
    "temp_C = float(input(\"Enter temperature in Celsius : \"))\n",
    "temp_F = (temp_C*1.8)+32\n",
    "print(\"Temperature in Fahrenheit is \",temp_F,\" F\")"
   ]
  },
  {
   "cell_type": "markdown",
   "id": "443e2ce0",
   "metadata": {},
   "source": [
    "3. Write a Python program to display calendar."
   ]
  },
  {
   "cell_type": "code",
   "execution_count": 13,
   "id": "3b094027",
   "metadata": {},
   "outputs": [
    {
     "name": "stdout",
     "output_type": "stream",
     "text": [
      "Enter the year : 2022\n",
      "                                  2022\n",
      "\n",
      "      January                   February                   March\n",
      "Mo Tu We Th Fr Sa Su      Mo Tu We Th Fr Sa Su      Mo Tu We Th Fr Sa Su\n",
      "                1  2          1  2  3  4  5  6          1  2  3  4  5  6\n",
      " 3  4  5  6  7  8  9       7  8  9 10 11 12 13       7  8  9 10 11 12 13\n",
      "10 11 12 13 14 15 16      14 15 16 17 18 19 20      14 15 16 17 18 19 20\n",
      "17 18 19 20 21 22 23      21 22 23 24 25 26 27      21 22 23 24 25 26 27\n",
      "24 25 26 27 28 29 30      28                        28 29 30 31\n",
      "31\n",
      "\n",
      "       April                      May                       June\n",
      "Mo Tu We Th Fr Sa Su      Mo Tu We Th Fr Sa Su      Mo Tu We Th Fr Sa Su\n",
      "             1  2  3                         1             1  2  3  4  5\n",
      " 4  5  6  7  8  9 10       2  3  4  5  6  7  8       6  7  8  9 10 11 12\n",
      "11 12 13 14 15 16 17       9 10 11 12 13 14 15      13 14 15 16 17 18 19\n",
      "18 19 20 21 22 23 24      16 17 18 19 20 21 22      20 21 22 23 24 25 26\n",
      "25 26 27 28 29 30         23 24 25 26 27 28 29      27 28 29 30\n",
      "                          30 31\n",
      "\n",
      "        July                     August                  September\n",
      "Mo Tu We Th Fr Sa Su      Mo Tu We Th Fr Sa Su      Mo Tu We Th Fr Sa Su\n",
      "             1  2  3       1  2  3  4  5  6  7                1  2  3  4\n",
      " 4  5  6  7  8  9 10       8  9 10 11 12 13 14       5  6  7  8  9 10 11\n",
      "11 12 13 14 15 16 17      15 16 17 18 19 20 21      12 13 14 15 16 17 18\n",
      "18 19 20 21 22 23 24      22 23 24 25 26 27 28      19 20 21 22 23 24 25\n",
      "25 26 27 28 29 30 31      29 30 31                  26 27 28 29 30\n",
      "\n",
      "      October                   November                  December\n",
      "Mo Tu We Th Fr Sa Su      Mo Tu We Th Fr Sa Su      Mo Tu We Th Fr Sa Su\n",
      "                1  2          1  2  3  4  5  6                1  2  3  4\n",
      " 3  4  5  6  7  8  9       7  8  9 10 11 12 13       5  6  7  8  9 10 11\n",
      "10 11 12 13 14 15 16      14 15 16 17 18 19 20      12 13 14 15 16 17 18\n",
      "17 18 19 20 21 22 23      21 22 23 24 25 26 27      19 20 21 22 23 24 25\n",
      "24 25 26 27 28 29 30      28 29 30                  26 27 28 29 30 31\n",
      "31\n",
      "\n"
     ]
    }
   ],
   "source": [
    "import calendar as cd\n",
    "year = int(input(\"Enter the year : \"))\n",
    "print(cd.calendar(year))"
   ]
  },
  {
   "cell_type": "markdown",
   "id": "8fc34512",
   "metadata": {},
   "source": [
    "4. Write a Python program to solve quadratic equation."
   ]
  },
  {
   "cell_type": "code",
   "execution_count": 19,
   "id": "32b10d0c",
   "metadata": {},
   "outputs": [
    {
     "name": "stdout",
     "output_type": "stream",
     "text": [
      "Enter the coefficient of X2 : 2\n",
      "Enter the coefficient of X : 4\n",
      "Enter the constant : 1\n",
      "Roots of the equation are :  -0.2928932188134524  and  -1.7071067811865475\n"
     ]
    }
   ],
   "source": [
    "def quad_equation(a,b,c): #(ax2 + bx +c) a cannot be 0\n",
    "    discriminant = b*b - 4*a*c\n",
    "    root_of_dis  = discriminant ** 0.5\n",
    "    root1 = (-b+root_of_dis)/ (2*a)\n",
    "    root2 = (-b-root_of_dis)/ (2*a)\n",
    "    print(\"Roots of the equation are : \",root1,\" and \",root2)\n",
    "a = int(input(\"Enter the coefficient of X2 : \"))\n",
    "if a == 0:\n",
    "    print(\"Please enter non zero value for X2 coefficient\")\n",
    "    a = input(\"Enter the coefficient of X2 : \")\n",
    "b = int(input(\"Enter the coefficient of X : \"))\n",
    "c = int(input(\"Enter the constant : \"))\n",
    "quad_equation(a,b,c)"
   ]
  },
  {
   "cell_type": "markdown",
   "id": "d532990e",
   "metadata": {},
   "source": [
    "5. Write a Python program to swap two variables without temp variable."
   ]
  },
  {
   "cell_type": "code",
   "execution_count": 21,
   "id": "2fa5c467",
   "metadata": {},
   "outputs": [
    {
     "name": "stdout",
     "output_type": "stream",
     "text": [
      "Enter var 1 : 23\n",
      "Enter var 2 : 889\n",
      "Variable after swapping :  889  and  23\n"
     ]
    }
   ],
   "source": [
    "a = int(input(\"Enter var 1 : \"))\n",
    "b = int(input(\"Enter var 2 : \"))\n",
    "a = a+b\n",
    "b = a-b\n",
    "a = a-b\n",
    "print(\"Variable after swapping : \",a,\" and \",b)"
   ]
  },
  {
   "cell_type": "code",
   "execution_count": null,
   "id": "d2bc54b3",
   "metadata": {},
   "outputs": [],
   "source": []
  }
 ],
 "metadata": {
  "kernelspec": {
   "display_name": "Python 3 (ipykernel)",
   "language": "python",
   "name": "python3"
  },
  "language_info": {
   "codemirror_mode": {
    "name": "ipython",
    "version": 3
   },
   "file_extension": ".py",
   "mimetype": "text/x-python",
   "name": "python",
   "nbconvert_exporter": "python",
   "pygments_lexer": "ipython3",
   "version": "3.10.6"
  }
 },
 "nbformat": 4,
 "nbformat_minor": 5
}
