{
 "cells": [
  {
   "cell_type": "markdown",
   "id": "c749ece1",
   "metadata": {},
   "source": [
    "# Write a Python Program to Add Two Matrices."
   ]
  },
  {
   "cell_type": "code",
   "execution_count": 15,
   "id": "5156cc3a",
   "metadata": {},
   "outputs": [
    {
     "name": "stdout",
     "output_type": "stream",
     "text": [
      "A :  [[13 14 10  2]\n",
      " [15 11  6 17]\n",
      " [ 8 13 18  9]\n",
      " [ 9  5  9  8]]\n",
      "B :  [[ 3 18 17  2]\n",
      " [ 7 18  5  3]\n",
      " [12  9 17 15]\n",
      " [13  2  6 18]]\n",
      "Sum of two matrices is :  [[16 32 27  4]\n",
      " [22 29 11 20]\n",
      " [20 22 35 24]\n",
      " [22  7 15 26]]\n"
     ]
    }
   ],
   "source": [
    "import numpy as np\n",
    "A = np.random.randint(1,20,(4,4))\n",
    "B = np.random.randint(1,20,(4,4))\n",
    "print(\"A : \",A)\n",
    "print(\"B : \",B)\n",
    "print(\"Sum of two matrices is : \",A+B)"
   ]
  },
  {
   "cell_type": "markdown",
   "id": "76309ddc",
   "metadata": {},
   "source": [
    "# Write a Python Program to Multiply Two Matrices."
   ]
  },
  {
   "cell_type": "code",
   "execution_count": 18,
   "id": "226a3f49",
   "metadata": {},
   "outputs": [
    {
     "name": "stdout",
     "output_type": "stream",
     "text": [
      "C :  [[18  7  6  9]\n",
      " [16  4 19 19]\n",
      " [12 15 15  3]\n",
      " [ 5 14 17 18]]\n",
      "D :  [[14 16 18 13]\n",
      " [14  7  6 12]\n",
      " [10  1 18  5]\n",
      " [17  1 11  1]]\n",
      "Multiplication of two matrices is :  [[252 112 108 117]\n",
      " [224  28 114 228]\n",
      " [120  15 270  15]\n",
      " [ 85  14 187  18]]\n"
     ]
    }
   ],
   "source": [
    "C = np.random.randint(1,20,(4,4))\n",
    "D = np.random.randint(1,20,(4,4))\n",
    "print(\"C : \",C)\n",
    "print(\"D : \",D)\n",
    "print(\"Multiplication of two matrices is : \",C*D)"
   ]
  },
  {
   "cell_type": "markdown",
   "id": "49bd048b",
   "metadata": {},
   "source": [
    "# Write a Python Program to Transpose a Matrix."
   ]
  },
  {
   "cell_type": "code",
   "execution_count": 20,
   "id": "58f2aab6",
   "metadata": {},
   "outputs": [
    {
     "name": "stdout",
     "output_type": "stream",
     "text": [
      "Matrix is :  [[69 54 52]\n",
      " [16 31 24]\n",
      " [43 38 85]]\n",
      "Transpose of the matrix is :  [[69 16 43]\n",
      " [54 31 38]\n",
      " [52 24 85]]\n"
     ]
    }
   ],
   "source": [
    "mat = np.random.randint(1,100,(3,3))\n",
    "print(\"Matrix is : \",mat)\n",
    "print(\"Transpose of the matrix is : \",mat.T)"
   ]
  },
  {
   "cell_type": "markdown",
   "id": "aa27b7cc",
   "metadata": {},
   "source": [
    "# Write a Python Program to Sort Words in Alphabetic Order."
   ]
  },
  {
   "cell_type": "code",
   "execution_count": 40,
   "id": "b5edc538",
   "metadata": {},
   "outputs": [
    {
     "name": "stdout",
     "output_type": "stream",
     "text": [
      "Enter the string : Write a Python Program to Sort Words in Alphabetic Order\n",
      "Strig is :  a Alphabetic in Order Program Python Sort to Words Write\n"
     ]
    }
   ],
   "source": [
    "l = input(\"Enter the string : \")\n",
    "l = l.split(' ')\n",
    "l.sort(key = lambda v : v.upper())\n",
    "str = \" \"\n",
    "l = str.join(l)\n",
    "print(\"Strig is : \",l)\n"
   ]
  },
  {
   "cell_type": "markdown",
   "id": "e1b914ca",
   "metadata": {},
   "source": [
    "# Write a Python Program to Remove Punctuation From a String."
   ]
  },
  {
   "cell_type": "code",
   "execution_count": 59,
   "id": "6b97d7a9",
   "metadata": {},
   "outputs": [
    {
     "name": "stdout",
     "output_type": "stream",
     "text": [
      "Enter your string : Wr!ite a! Pyth!on ! Pro!gram to Remo!ve Pun!ctuation From a ! Stri!ng\n",
      "Write a Python  Program to Remove Punctuation From a  String\n"
     ]
    }
   ],
   "source": [
    "string = input(\"Enter your string : \")\n",
    "print(string.replace('!',''))\n"
   ]
  },
  {
   "cell_type": "markdown",
   "id": "0208c0ae",
   "metadata": {},
   "source": []
  }
 ],
 "metadata": {
  "kernelspec": {
   "display_name": "Python 3 (ipykernel)",
   "language": "python",
   "name": "python3"
  },
  "language_info": {
   "codemirror_mode": {
    "name": "ipython",
    "version": 3
   },
   "file_extension": ".py",
   "mimetype": "text/x-python",
   "name": "python",
   "nbconvert_exporter": "python",
   "pygments_lexer": "ipython3",
   "version": "3.9.12"
  }
 },
 "nbformat": 4,
 "nbformat_minor": 5
}
