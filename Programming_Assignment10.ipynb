{
 "cells": [
  {
   "cell_type": "markdown",
   "id": "f41ca3a6",
   "metadata": {},
   "source": [
    "### Write a Python program to find sum of elements in list."
   ]
  },
  {
   "cell_type": "code",
   "execution_count": 5,
   "id": "d052748c",
   "metadata": {},
   "outputs": [
    {
     "name": "stdout",
     "output_type": "stream",
     "text": [
      "Enter the size of the list : 5\n",
      "Enter data : \n",
      "1231\n",
      "324\n",
      "213\n",
      "453\n",
      "56\n",
      "Sum is : 2277\n"
     ]
    }
   ],
   "source": [
    "l = []\n",
    "sum = 0\n",
    "size = int(input(\"Enter the size of the list : \"))\n",
    "print(\"Enter data : \")\n",
    "for i in range(0,size):\n",
    "    data = int(input())\n",
    "    l.append(data)\n",
    "for i in range(0,size):\n",
    "    sum = sum+l[i]\n",
    "print(\"Sum is :\", sum)    "
   ]
  },
  {
   "cell_type": "markdown",
   "id": "d41bda9f",
   "metadata": {},
   "source": [
    "### Write a Python program to Multiply all numbers in the list."
   ]
  },
  {
   "cell_type": "code",
   "execution_count": 7,
   "id": "f5afb098",
   "metadata": {},
   "outputs": [
    {
     "name": "stdout",
     "output_type": "stream",
     "text": [
      "Product of all element of list :  3628800\n"
     ]
    }
   ],
   "source": [
    "l = [1,2,3,4,5,6,7,8,9,10]\n",
    "prod = 1\n",
    "for i in range(0,len(l)):\n",
    "    prod = prod * l[i]\n",
    "print(\"Product of all element of list : \",prod)    "
   ]
  },
  {
   "cell_type": "markdown",
   "id": "c52d2753",
   "metadata": {},
   "source": [
    "### Write a Python program to find smallest number in a list?"
   ]
  },
  {
   "cell_type": "code",
   "execution_count": 15,
   "id": "7544accc",
   "metadata": {},
   "outputs": [
    {
     "name": "stdout",
     "output_type": "stream",
     "text": [
      "-1\n",
      "Smallest is :  -1\n"
     ]
    }
   ],
   "source": [
    "l1 = [3,423,423,4,324,3,54,-1,6,456,23,76,8,69,879,789,87,9,78]\n",
    "print(min(l1))\n",
    "## without function\n",
    "small = l[0]\n",
    "for i in range(1,len(l1)):\n",
    "    if(l1[i] < small):\n",
    "        small = l1[i]\n",
    "print(\"Smallest is : \",small)        "
   ]
  },
  {
   "cell_type": "markdown",
   "id": "6de094bf",
   "metadata": {},
   "source": [
    "### Write a Python program to find largest number in a list."
   ]
  },
  {
   "cell_type": "code",
   "execution_count": 17,
   "id": "1006adac",
   "metadata": {},
   "outputs": [
    {
     "name": "stdout",
     "output_type": "stream",
     "text": [
      "Largest is :  57456\n"
     ]
    }
   ],
   "source": [
    "l2 = [324,234,23,34,5,456,57456,7,4567,42,34,32,4,35,34,5]\n",
    "lar = l[0]\n",
    "for i in range(1,len(l2)):\n",
    "    if l2[i] > lar:\n",
    "        lar = l2[i]\n",
    "print(\"Largest is : \",lar)        "
   ]
  },
  {
   "cell_type": "markdown",
   "id": "33266b94",
   "metadata": {},
   "source": [
    "### Write a Python program to find second largest number in a list."
   ]
  },
  {
   "cell_type": "code",
   "execution_count": 24,
   "id": "93525bd5",
   "metadata": {},
   "outputs": [
    {
     "name": "stdout",
     "output_type": "stream",
     "text": [
      "Second largest is :  3241\n"
     ]
    }
   ],
   "source": [
    "l3 = [3241,32,4,3145,324,5,436,45,6,57,67,4,56,34,56,54,75,6324,6324]\n",
    "l3.sort()\n",
    "l4 = []\n",
    "for i in range(0,len(l3)):\n",
    "    if l3[i] not in l4:\n",
    "        l4.append(l3[i])\n",
    "print(\"Second largest is : \",l4[len(l4)-2])        "
   ]
  },
  {
   "cell_type": "markdown",
   "id": "ad46266d",
   "metadata": {},
   "source": [
    "### Write a Python program to find N largest elements from a list."
   ]
  },
  {
   "cell_type": "code",
   "execution_count": 29,
   "id": "9559e68d",
   "metadata": {},
   "outputs": [
    {
     "name": "stdout",
     "output_type": "stream",
     "text": [
      "Enter the n largest element you want : 8\n",
      "List of unique data :  [4, 5, 6, 32, 34, 45, 54, 56, 57, 67, 75, 324, 436, 3145, 3241, 6324]\n",
      "Second largest is :  57\n"
     ]
    }
   ],
   "source": [
    "n = int(input(\"Enter the n largest element you want : \"))\n",
    "l5 = [3241,32,4,3145,324,5,436,45,6,57,67,4,56,34,56,54,75,6324,6324]\n",
    "l5.sort()\n",
    "l6 = []\n",
    "for i in range(0,len(l5)):\n",
    "    if l5[i] not in l6:\n",
    "        l6.append(l5[i])\n",
    "print(\"List of unique data : \",l6)\n",
    "print(\"Second largest is : \",l6[len(l6)-n])   "
   ]
  },
  {
   "cell_type": "markdown",
   "id": "22b2732c",
   "metadata": {},
   "source": [
    "### Write a Python program to print even numbers in a list."
   ]
  },
  {
   "cell_type": "code",
   "execution_count": 32,
   "id": "751734e5",
   "metadata": {},
   "outputs": [
    {
     "name": "stdout",
     "output_type": "stream",
     "text": [
      "Even numbers are :  [2324, 4, 546, 56, 678, 76, 8, 34, 6]\n"
     ]
    }
   ],
   "source": [
    "list1 = [2324,345,452345,4,546,5,7,56,7,678,76,8,435,34,5,45,6,567,65]\n",
    "list2 = []\n",
    "for i in range(0,len(list1)):\n",
    "    if list1[i] % 2 == 0:\n",
    "        list2.append(list1[i])\n",
    "print(\"Even numbers are : \",list2)        "
   ]
  },
  {
   "cell_type": "markdown",
   "id": "c2ba074d",
   "metadata": {},
   "source": [
    "### Write a Python program to print odd numbers in a List."
   ]
  },
  {
   "cell_type": "code",
   "execution_count": 33,
   "id": "746fadbd",
   "metadata": {},
   "outputs": [
    {
     "name": "stdout",
     "output_type": "stream",
     "text": [
      "Even numbers are :  [345, 452345, 5, 7, 7, 435, 5, 45, 567, 65]\n"
     ]
    }
   ],
   "source": [
    "list3 = [2324,345,452345,4,546,5,7,56,7,678,76,8,435,34,5,45,6,567,65]\n",
    "list4 = []\n",
    "for i in range(0,len(list3)):\n",
    "    if list3[i] % 2 != 0:\n",
    "        list4.append(list3[i])\n",
    "print(\"Even numbers are : \",list4) "
   ]
  },
  {
   "cell_type": "markdown",
   "id": "f6eabafb",
   "metadata": {},
   "source": [
    "### Write a Python program to Remove empty List from List."
   ]
  },
  {
   "cell_type": "code",
   "execution_count": 57,
   "id": "57d36545",
   "metadata": {},
   "outputs": [
    {
     "name": "stdout",
     "output_type": "stream",
     "text": [
      "7\n",
      "List is :  [[234, 23, 4, 324], ['array', 3234], 34234, 'hello']\n"
     ]
    }
   ],
   "source": [
    "lista = [[234,23,4,324],[],['array',3234],[],34234,[],'hello']\n",
    "listb = lista\n",
    "print(len(lista))   \n",
    "data1 = [m for m in lista if m!= []]    \n",
    "       \n",
    "print(\"List is : \",data1)"
   ]
  },
  {
   "cell_type": "markdown",
   "id": "67afe147",
   "metadata": {},
   "source": [
    "### Write a Python program to Cloning or Copying a list."
   ]
  },
  {
   "cell_type": "code",
   "execution_count": 60,
   "id": "c178ac04",
   "metadata": {},
   "outputs": [
    {
     "name": "stdout",
     "output_type": "stream",
     "text": [
      "original :  [234, 23, 4, 234, 23, 432, 4, 234, 345, 43]\n",
      "copied :  [234, 23, 4, 234, 23, 432, 4, 234, 345, 43]\n"
     ]
    }
   ],
   "source": [
    "f = [234,23,4,234,23,432,4,234,345,43]\n",
    "op = f\n",
    "print(\"original : \",f)\n",
    "print(\"copied : \",op)"
   ]
  },
  {
   "cell_type": "markdown",
   "id": "6cee89d0",
   "metadata": {},
   "source": [
    "### Write a Python program to Count occurrences of an element in a list."
   ]
  },
  {
   "cell_type": "code",
   "execution_count": 66,
   "id": "6020c02c",
   "metadata": {},
   "outputs": [
    {
     "name": "stdout",
     "output_type": "stream",
     "text": [
      "Enter element : 4\n",
      "Number 4 occured 7 times\n"
     ]
    }
   ],
   "source": [
    "l = [1,2,3,4,5,1,2,3,3,4,4,2,3,2,2,3,3,1,3,4,6,6,7,7,8,5,4,4,4]\n",
    "count = 0\n",
    "ele = int(input(\"Enter element : \"))\n",
    "l.sort()\n",
    "for i in range(0,len(l)):\n",
    "    if(l[i] == ele):\n",
    "        count = count + 1\n",
    "print(\"Number\",ele,\"occured\",count,\"times\")        "
   ]
  },
  {
   "cell_type": "code",
   "execution_count": null,
   "id": "fff97b25",
   "metadata": {},
   "outputs": [],
   "source": []
  }
 ],
 "metadata": {
  "kernelspec": {
   "display_name": "Python 3 (ipykernel)",
   "language": "python",
   "name": "python3"
  },
  "language_info": {
   "codemirror_mode": {
    "name": "ipython",
    "version": 3
   },
   "file_extension": ".py",
   "mimetype": "text/x-python",
   "name": "python",
   "nbconvert_exporter": "python",
   "pygments_lexer": "ipython3",
   "version": "3.9.12"
  }
 },
 "nbformat": 4,
 "nbformat_minor": 5
}
