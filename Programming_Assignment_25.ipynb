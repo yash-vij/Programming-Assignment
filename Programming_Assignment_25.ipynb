{
 "cells": [
  {
   "cell_type": "markdown",
   "id": "c1a4b7c7",
   "metadata": {},
   "source": [
    "### Question1\n",
    "Create a function that takes three integer arguments (a, b, c) and returns the amount of\n",
    "integers which are of equal value.\n",
    "Examples\n",
    "equal(3, 4, 3) ➞ 2\n",
    "equal(1, 1, 1) ➞ 3\n",
    "equal(3, 4, 1) ➞ 0\n",
    "Notes\n",
    "Your function must return 0, 2 or 3."
   ]
  },
  {
   "cell_type": "code",
   "execution_count": 3,
   "id": "aa17af1e",
   "metadata": {},
   "outputs": [
    {
     "name": "stdout",
     "output_type": "stream",
     "text": [
      "3\n",
      "0\n",
      "2\n"
     ]
    }
   ],
   "source": [
    "def equal(a,b,c):\n",
    "    count = 0\n",
    "    if a==b and a==c:\n",
    "        count = 3\n",
    "    elif a == b or a==c:\n",
    "        count = 2\n",
    "    elif b == c:\n",
    "        count = 2\n",
    "    else:\n",
    "        count = 0\n",
    "    print(count)\n",
    "equal(1, 1, 1) \n",
    "equal(3, 4, 1)\n",
    "equal(3, 4, 3)"
   ]
  },
  {
   "cell_type": "markdown",
   "id": "47078745",
   "metadata": {},
   "source": [
    "### Question2\n",
    "Write a function that converts a dictionary into a list of keys-values tuples.\n",
    "Examples\n",
    "dict_to_list({\n",
    "&quot;D&quot;: 1,\n",
    "&quot;B&quot;: 2,\n",
    "&quot;C&quot;: 3\n",
    "}) ➞ [(&quot;B&quot;, 2), (&quot;C&quot;, 3), (&quot;D&quot;, 1)]\n",
    "dict_to_list({\n",
    "&quot;likes&quot;: 2,\n",
    "&quot;dislikes&quot;: 3,\n",
    "&quot;followers&quot;: 10\n",
    "}) ➞ [(&quot;dislikes&quot;, 3), (&quot;followers&quot;, 10), (&quot;likes&quot;, 2)]\n",
    "Notes\n",
    "Return the elements in the list in alphabetical order."
   ]
  },
  {
   "cell_type": "code",
   "execution_count": 4,
   "id": "642f3812",
   "metadata": {},
   "outputs": [
    {
     "name": "stdout",
     "output_type": "stream",
     "text": [
      "{'D': 1, 'B': 2, 'C': 3} ➞ [('D', 1), ('B', 2), ('C', 3)]\n",
      "{'likes': 2, 'dislikes': 3, 'followers': 10} ➞ [('likes', 2), ('dislikes', 3), ('followers', 10)]\n"
     ]
    }
   ],
   "source": [
    "def dict_to_list(in_dict):\n",
    "    out_list = []\n",
    "    for keys,values in in_dict.items():\n",
    "        out_list.append((keys,values))\n",
    "    print(f'{in_dict} ➞ {out_list}')\n",
    "                   \n",
    "dict_to_list({\"D\": 1,\"B\": 2,\"C\": 3})\n",
    "dict_to_list({\"likes\": 2,\"dislikes\": 3,\"followers\": 10})"
   ]
  },
  {
   "cell_type": "markdown",
   "id": "fb00e23a",
   "metadata": {},
   "source": [
    "### Question3\n",
    "Write a function that creates a dictionary with each (key, value) pair being the (lower case,\n",
    "upper case) versions of a letter, respectively.\n",
    "Examples\n",
    "mapping([&quot;p&quot;, &quot;s&quot;]) ➞ { &quot;p&quot;: &quot;P&quot;, &quot;s&quot;: &quot;S&quot; }\n",
    "\n",
    "mapping([&quot;a&quot;, &quot;b&quot;, &quot;c&quot;]) ➞ { &quot;a&quot;: &quot;A&quot;, &quot;b&quot;: &quot;B&quot;, &quot;c&quot;: &quot;C&quot; }\n",
    "mapping([&quot;a&quot;, &quot;v&quot;, &quot;y&quot;, &quot;z&quot;]) ➞ { &quot;a&quot;: &quot;A&quot;, &quot;v&quot;: &quot;V&quot;, &quot;y&quot;: &quot;Y&quot;, &quot;z&quot;: &quot;Z&quot; }\n",
    "Notes\n",
    "All of the letters in the input list will always be lowercase."
   ]
  },
  {
   "cell_type": "code",
   "execution_count": 7,
   "id": "5946ff0c",
   "metadata": {},
   "outputs": [
    {
     "name": "stdout",
     "output_type": "stream",
     "text": [
      "{'a': 'A', 'b': 'B', 'c': 'C'}\n",
      "{'a': 'A', 'v': 'V', 'y': 'Y', 'z': 'Z'}\n"
     ]
    }
   ],
   "source": [
    "def mapping(lis):\n",
    "    dict1 = {}\n",
    "    for i in lis:\n",
    "        dict1[i] = i.upper()\n",
    "    print(dict1)\n",
    "mapping([\"a\", \"b\", \"c\"])   \n",
    "mapping([\"a\", \"v\", \"y\", \"z\"])"
   ]
  },
  {
   "cell_type": "markdown",
   "id": "311d3899",
   "metadata": {},
   "source": [
    "### Question4\n",
    "Write a function, that replaces all vowels in a string with a specified vowel.\n",
    "Examples\n",
    "vow_replace(&quot;apples and bananas&quot;, &quot;u&quot;) ➞ &quot;upplus und bununus&quot;\n",
    "vow_replace(&quot;cheese casserole&quot;, &quot;o&quot;) ➞ &quot;chooso cossorolo&quot;\n",
    "vow_replace(&quot;stuffed jalapeno poppers&quot;, &quot;e&quot;) ➞ &quot;steffed jelepene peppers&quot;\n",
    "Notes\n",
    "All words will be lowercase. Y is not considered a vowel."
   ]
  },
  {
   "cell_type": "code",
   "execution_count": 11,
   "id": "f9f9d421",
   "metadata": {},
   "outputs": [
    {
     "name": "stdout",
     "output_type": "stream",
     "text": [
      "chooso cossorolo\n",
      "steffed jelepene peppers\n",
      "upplus und bununus\n"
     ]
    }
   ],
   "source": [
    "def vow_replace(lis, ch):\n",
    "    vowels = 'aeiouAEIOU'\n",
    "    for ele in vowels:\n",
    "        lis = lis.replace(ele,ch)\n",
    "    print(lis)\n",
    "\n",
    "vow_replace(\"cheese casserole\", \"o\") \n",
    "vow_replace(\"stuffed jalapeno poppers\", \"e\")\n",
    "vow_replace(\"apples and bananas\", \"u\") "
   ]
  },
  {
   "cell_type": "markdown",
   "id": "c0534a15",
   "metadata": {},
   "source": [
    "### Question5\n",
    "Create a function that takes a string as input and capitalizes a letter if its ASCII code is even\n",
    "and returns its lower case version if its ASCII code is odd.\n",
    "Examples\n",
    "ascii_capitalize(&quot;to be or not to be!&quot;) ➞ &quot;To Be oR NoT To Be!&quot;\n",
    "ascii_capitalize(&quot;THE LITTLE MERMAID&quot;) ➞ &quot;THe LiTTLe meRmaiD&quot;\n",
    "ascii_capitalize(&quot;Oh what a beautiful morning.&quot;) ➞ &quot;oH wHaT a BeauTiFuL\n",
    "moRNiNg.&quot;"
   ]
  },
  {
   "cell_type": "code",
   "execution_count": 22,
   "id": "0b24cae2",
   "metadata": {},
   "outputs": [
    {
     "name": "stdout",
     "output_type": "stream",
     "text": [
      "oH wHaT a BeauTiFuL moRNiNg.\n",
      "To Be oR NoT To Be!\n",
      "THe LiTTLe meRmaiD\n"
     ]
    }
   ],
   "source": [
    "def ascii_capitalize(strn):\n",
    "    s1 = []\n",
    "    st = [s for s in strn]\n",
    "    for i in range(0,len(st)):\n",
    "        if ord(st[i]) % 2 == 0:\n",
    "            s1.insert(i,st[i].upper())\n",
    "        else:\n",
    "            s1.insert(i,st[i].lower())\n",
    "    s1 = ''.join(s1)        \n",
    "    print(s1)        \n",
    "ascii_capitalize(\"Oh what a beautiful morning.\")  \n",
    "ascii_capitalize(\"to be or not to be!\")\n",
    "ascii_capitalize(\"THE LITTLE MERMAID\")"
   ]
  },
  {
   "cell_type": "code",
   "execution_count": null,
   "id": "70db4380",
   "metadata": {},
   "outputs": [],
   "source": []
  }
 ],
 "metadata": {
  "kernelspec": {
   "display_name": "Python 3 (ipykernel)",
   "language": "python",
   "name": "python3"
  },
  "language_info": {
   "codemirror_mode": {
    "name": "ipython",
    "version": 3
   },
   "file_extension": ".py",
   "mimetype": "text/x-python",
   "name": "python",
   "nbconvert_exporter": "python",
   "pygments_lexer": "ipython3",
   "version": "3.9.12"
  }
 },
 "nbformat": 4,
 "nbformat_minor": 5
}
