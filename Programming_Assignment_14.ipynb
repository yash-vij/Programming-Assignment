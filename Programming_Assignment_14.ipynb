{
 "cells": [
  {
   "cell_type": "markdown",
   "id": "40e923a8",
   "metadata": {},
   "source": [
    "### Question 1: \n",
    "Define a class with a generator which can iterate the numbers, which are divisible by 7, between a given range 0 and n.\n"
   ]
  },
  {
   "cell_type": "code",
   "execution_count": 3,
   "id": "fda44a7f",
   "metadata": {},
   "outputs": [
    {
     "name": "stdout",
     "output_type": "stream",
     "text": [
      "0 7 14 21 28 35 42 49 56 63 70 77 84 91 98 "
     ]
    }
   ],
   "source": [
    "class action:\n",
    "    def __init__(self,n):\n",
    "        for i in range(0,n+1):\n",
    "            if i%7 == 0:\n",
    "                print(i,end=\" \")\n",
    "                \n",
    "ac = action(100)                "
   ]
  },
  {
   "cell_type": "markdown",
   "id": "a3c9cc2d",
   "metadata": {},
   "source": [
    "### Question 2:\n",
    "Write a program to compute the frequency of the words from the input. The output should output after sorting the key alphanumerically. \n",
    "\n",
    "Suppose the following input is supplied to the program:\n",
    "\n",
    "New to Python or choosing between Python 2 and Python 3? Read Python 2 or Python 3.\n",
    "\n",
    "Then, the output should be:\n",
    "\n",
    "2:2\n",
    "\n",
    "3.:1\n",
    "\n",
    "3?:1\n",
    "\n",
    "New:1\n",
    "\n",
    "Python:5\n",
    "\n",
    "Read:1\n",
    "\n",
    "and:1\n",
    "\n",
    "between:1\n",
    "\n",
    "choosing:1\n",
    "\n",
    "or:2\n",
    "\n",
    "to:1\n"
   ]
  },
  {
   "cell_type": "code",
   "execution_count": 27,
   "id": "0dcefb0a",
   "metadata": {},
   "outputs": [
    {
     "name": "stdout",
     "output_type": "stream",
     "text": [
      "Enter the string : New to Python or choosing between Python 2 and Python 3? Read Python 2 or Python 3\n",
      "2  :  2\n",
      "3  :  1\n",
      "3?  :  1\n",
      "New  :  1\n",
      "Python  :  5\n",
      "Read  :  1\n",
      "and  :  1\n",
      "between  :  1\n",
      "choosing  :  1\n",
      "or  :  2\n",
      "to  :  1\n"
     ]
    }
   ],
   "source": [
    "str1 = input(\"Enter the string : \")\n",
    "l = str1.split()\n",
    "l.sort()\n",
    "l.append('')\n",
    "i=0\n",
    "while i < len(l):\n",
    "    count = 1\n",
    "    while(True):\n",
    "        if l[i] == '':\n",
    "            break\n",
    "        else:    \n",
    "            if l[i] == l[i+1]:\n",
    "                count = count +1\n",
    "                i = i+1\n",
    "            else:\n",
    "                print(l[i],\" : \",count)\n",
    "                break\n",
    "    i = i+1         \n",
    "            "
   ]
  },
  {
   "cell_type": "markdown",
   "id": "304ec273",
   "metadata": {},
   "source": [
    "### Question 3:\n",
    "Define a class Person and its two child classes: Male and Female. All classes have a method \"getGender\" which can print \"Male\" for Male class and \"Female\" for Female class.\n"
   ]
  },
  {
   "cell_type": "code",
   "execution_count": 31,
   "id": "d573f027",
   "metadata": {},
   "outputs": [
    {
     "name": "stdout",
     "output_type": "stream",
     "text": [
      "Male\n",
      "Female\n"
     ]
    }
   ],
   "source": [
    "class Person:\n",
    "    def __init__(self):\n",
    "        self.gender = \"unkown\"\n",
    "    def getGender(self):\n",
    "        print(self.gender)\n",
    "class Male(Person):\n",
    "    def __init__(self):\n",
    "        self.gender = \"Male\"\n",
    "class Female(Person):\n",
    "    def __init__(self):\n",
    "        self.gender = 'Female'\n",
    "    \n",
    "Yash = Male()\n",
    "Yash.getGender()\n",
    "Shruti = Female()\n",
    "Shruti.getGender()"
   ]
  },
  {
   "cell_type": "markdown",
   "id": "0bdbbf64",
   "metadata": {},
   "source": [
    "### Question 4:\n",
    "Please write a program to generate all sentences where subject is in [\"I\", \"You\"] and verb is in [\"Play\", \"Love\"] and the object is in [\"Hockey\",\"Football\"].\n"
   ]
  },
  {
   "cell_type": "code",
   "execution_count": 32,
   "id": "0246c9f5",
   "metadata": {},
   "outputs": [
    {
     "name": "stdout",
     "output_type": "stream",
     "text": [
      "I  Play  Hockey\n",
      "I  Play  Football\n",
      "I  Love  Hockey\n",
      "I  Love  Football\n",
      "You  Play  Hockey\n",
      "You  Play  Football\n",
      "You  Love  Hockey\n",
      "You  Love  Football\n"
     ]
    }
   ],
   "source": [
    "subject = [\"I\", \"You\"]\n",
    "verb = [\"Play\", \"Love\"] \n",
    "obj = [\"Hockey\",\"Football\"]\n",
    "for i in subject:\n",
    "    for j in verb:\n",
    "        for k in obj:\n",
    "            print(i,\"\",j,\"\",k)"
   ]
  },
  {
   "cell_type": "markdown",
   "id": "3c195034",
   "metadata": {},
   "source": [
    "### Question 5:\n",
    "Please write a program to compress and decompress the string \"hello world!hello world!hello world!hello world!\".\n"
   ]
  },
  {
   "cell_type": "code",
   "execution_count": 48,
   "id": "a1a92e15",
   "metadata": {},
   "outputs": [
    {
     "name": "stdout",
     "output_type": "stream",
     "text": [
      "Before compress : 48 b'hello world!hello world!hello world!hello world!'  and after compress : 23 b'x\\x9c\\xcbH\\xcd\\xc9\\xc9W(\\xcf/\\xcaIQ\\xcc \\x82\\r\\x00\\xbd[\\x11\\xf5'\n",
      "After decompress : b'hello world!hello world!hello world!hello world!'\n"
     ]
    }
   ],
   "source": [
    "import zlib\n",
    "l = b'hello world!hello world!hello world!hello world!'   ###  b before ' ' is to convert data to byte\n",
    "l1 = zlib.compress(l)\n",
    "print(\"Before compress :\",len(l),l,\" and after compress :\",len(l1),l1)\n",
    "l2 = zlib.decompress(l1)\n",
    "print(\"After decompress :\",l2)"
   ]
  },
  {
   "cell_type": "markdown",
   "id": "792cea2c",
   "metadata": {},
   "source": [
    "### Question 6:\n",
    "Please write a binary search function which searches an item in a sorted list. The function should return the index of element to be searched in the list.\n"
   ]
  },
  {
   "cell_type": "code",
   "execution_count": 71,
   "id": "c27a8bed",
   "metadata": {},
   "outputs": [
    {
     "name": "stdout",
     "output_type": "stream",
     "text": [
      "[0, 2, 4, 4, 8, 9, 32, 34, 34, 34, 54, 324, 342, 342, 435, 535, 656, 689, 789]\n",
      "Enter the element to be search : 689\n",
      "17\n"
     ]
    }
   ],
   "source": [
    "l = [2,342,34,32,34,342,535,656,54,8,789,689,9,0,4,435,324,34,4]\n",
    "l.sort()\n",
    "print(l)\n",
    "ele = int(input(\"Enter the element to be search : \"))\n",
    "def binary_search(l,ele):\n",
    "    top = 0\n",
    "    last = len(l)-1\n",
    "    location = -1\n",
    "    while(last>=top and location == -1):\n",
    "        mid = int((top+last)/2)\n",
    "        if l[mid] == ele:\n",
    "            location = mid\n",
    "        elif l[mid] > ele:\n",
    "            last = mid-1\n",
    "        else:\n",
    "            top = mid+1\n",
    "    return location\n",
    "loc = binary_search(l,ele)\n",
    "print(loc)"
   ]
  },
  {
   "cell_type": "code",
   "execution_count": null,
   "id": "54e1cc46",
   "metadata": {},
   "outputs": [],
   "source": []
  },
  {
   "cell_type": "code",
   "execution_count": null,
   "id": "6942ad41",
   "metadata": {},
   "outputs": [],
   "source": []
  },
  {
   "cell_type": "code",
   "execution_count": null,
   "id": "1342c234",
   "metadata": {},
   "outputs": [],
   "source": []
  }
 ],
 "metadata": {
  "kernelspec": {
   "display_name": "Python 3 (ipykernel)",
   "language": "python",
   "name": "python3"
  },
  "language_info": {
   "codemirror_mode": {
    "name": "ipython",
    "version": 3
   },
   "file_extension": ".py",
   "mimetype": "text/x-python",
   "name": "python",
   "nbconvert_exporter": "python",
   "pygments_lexer": "ipython3",
   "version": "3.9.12"
  }
 },
 "nbformat": 4,
 "nbformat_minor": 5
}
