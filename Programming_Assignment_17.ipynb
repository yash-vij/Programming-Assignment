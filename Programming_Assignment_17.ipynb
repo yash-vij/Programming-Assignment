{
 "cells": [
  {
   "cell_type": "markdown",
   "id": "3f506d6f",
   "metadata": {},
   "source": [
    "### Question1. \n",
    "Create a function that takes three arguments a, b, c and returns the sum of the numbers that are evenly divided by c from the range a, b inclusive.\n",
    "Examples\n",
    "evenly_divisible(1, 10, 20) ➞ 0\n",
    "#### No number between 1 and 10 can be evenly divided by 20.\n",
    "\n",
    "evenly_divisible(1, 10, 2) ➞ 30\n",
    "#### 2 + 4 + 6 + 8 + 10 = 30\n",
    "\n",
    "evenly_divisible(1, 10, 3) ➞ 18\n",
    "#### 3 + 6 + 9 = 18\n"
   ]
  },
  {
   "cell_type": "code",
   "execution_count": 2,
   "id": "909048a0",
   "metadata": {},
   "outputs": [
    {
     "name": "stdout",
     "output_type": "stream",
     "text": [
      "1\n",
      "10\n",
      "3\n",
      "Sum is : 18\n"
     ]
    }
   ],
   "source": [
    "def evenly_divisible(a,b,c):\n",
    "    sum = 0\n",
    "    for i in range(a,b+1):\n",
    "        if i % c == 0:\n",
    "            sum = sum + i\n",
    "    return sum\n",
    "a,b,c = int(input()),int(input()),int(input())\n",
    "data = evenly_divisible(a,b,c)\n",
    "print(\"Sum is :\",data)"
   ]
  },
  {
   "cell_type": "markdown",
   "id": "a9dfe8f8",
   "metadata": {},
   "source": [
    "### Question2. \n",
    "Create a function that returns True if a given inequality expression is correct and False otherwise.\n",
    "Examples\n",
    "correct_signs(\"3 < 7 < 11\") ➞ True\n",
    "\n",
    "correct_signs(\"13 > 44 > 33 > 1\") ➞ False\n",
    "\n",
    "correct_signs(\"1 < 2 < 6 < 9 > 3\") ➞ True\n"
   ]
  },
  {
   "cell_type": "code",
   "execution_count": 17,
   "id": "e70d1239",
   "metadata": {},
   "outputs": [
    {
     "name": "stdout",
     "output_type": "stream",
     "text": [
      "Enter the expression :13 > 44 > 33 > 1\n",
      "False\n"
     ]
    }
   ],
   "source": [
    "def correct_signs(data):\n",
    "    st = eval(data)\n",
    "    print(st) \n",
    "data = input(\"Enter the expression :\")\n",
    "correct_signs(data)\n"
   ]
  },
  {
   "cell_type": "markdown",
   "id": "13bbc439",
   "metadata": {},
   "source": [
    "### Question3.\n",
    "Create a function that replaces all the vowels in a string with a specified character.\n",
    "Examples\n",
    "replace_vowels(\"the aardvark\", \"#\") ➞ \"th# ##rdv#rk\"\n",
    "\n",
    "replace_vowels(\"minnie mouse\", \"?\") ➞ \"m?nn?? m??s?\"\n",
    "\n",
    "replace_vowels(\"shakespeare\", \"*\") ➞ \"sh*k*sp**r*\"\n"
   ]
  },
  {
   "cell_type": "code",
   "execution_count": 1,
   "id": "d246469b",
   "metadata": {},
   "outputs": [
    {
     "name": "stdout",
     "output_type": "stream",
     "text": [
      "Enter the string : shakespeare\n",
      "Enter the symbol : *\n",
      "sh*k*sp**r*\n"
     ]
    }
   ],
   "source": [
    "def replace_vowels(str1,sym):\n",
    "    vowel = ['A','E','I','O','U','a','e','i','o','u']\n",
    "    for ele in vowel:\n",
    "        str1 = str1.replace(ele,sym)\n",
    "    return str1    \n",
    "    \n",
    "str1 = input(\"Enter the string : \")\n",
    "sym = input(\"Enter the symbol : \")\n",
    "output = replace_vowels(str1,sym)\n",
    "\n",
    "print(output)\n"
   ]
  },
  {
   "cell_type": "markdown",
   "id": "a47edaf9",
   "metadata": {},
   "source": [
    "### Question4. \n",
    "Write a function that calculates the factorial of a number recursively.\n",
    "Examples\n",
    "factorial(5) ➞ 120\n",
    "\n",
    "factorial(3) ➞ 6\n",
    "\n",
    "factorial(1) ➞ 1\n",
    "\n",
    "factorial(0) ➞ 1\n"
   ]
  },
  {
   "cell_type": "code",
   "execution_count": 1,
   "id": "9c6dad22",
   "metadata": {},
   "outputs": [
    {
     "name": "stdout",
     "output_type": "stream",
     "text": [
      "Enter the number : 4\n",
      "24\n"
     ]
    }
   ],
   "source": [
    "def factorial(ele):\n",
    "    if ele == 0 or ele == 1:return 1\n",
    "    else:\n",
    "        return (ele * factorial(ele-1))\n",
    "fact = 1\n",
    "el = int(input(\"Enter the number : \"))\n",
    "print( factorial(el))"
   ]
  },
  {
   "cell_type": "markdown",
   "id": "f98e9a54",
   "metadata": {},
   "source": [
    "### Question 5\n",
    "Hamming distance is the number of characters that differ between two strings.\n",
    "To illustrate:\n",
    "String1: \"abcbba\"\n",
    "String2: \"abcbda\"\n",
    "\n",
    "Hamming Distance: 1 - \"b\" vs. \"d\" is the only difference.\n",
    "Create a function that computes the hamming distance between two strings.\n",
    "Examples\n",
    "hamming_distance(\"abcde\", \"bcdef\") ➞ 5\n",
    "\n",
    "hamming_distance(\"abcde\", \"abcde\") ➞ 0\n",
    "\n",
    "hamming_distance(\"strong\", \"strung\") ➞ 1\n"
   ]
  },
  {
   "cell_type": "code",
   "execution_count": 3,
   "id": "6621a121",
   "metadata": {},
   "outputs": [
    {
     "name": "stdout",
     "output_type": "stream",
     "text": [
      "Enter first string : abcdef\n",
      "Enter second string : abcfgf\n",
      "2\n"
     ]
    }
   ],
   "source": [
    "def hamming_distance(str1,str2):\n",
    "    data1 = [ele1 for ele1 in str1]\n",
    "    data2 = [ele2 for ele2 in str2]\n",
    "    count = 0\n",
    "    if(len(str1) == len(str2)):\n",
    "        for i in range(0,len(str1)):\n",
    "            if data1[i] != data2[i]:\n",
    "                count = count +1\n",
    "                \n",
    "        return count\n",
    "    else: return -1\n",
    "\n",
    "str1 = input(\"Enter first string : \")\n",
    "str2 = input(\"Enter second string : \")\n",
    "print(hamming_distance(str1,str2))"
   ]
  },
  {
   "cell_type": "code",
   "execution_count": null,
   "id": "8d211e52",
   "metadata": {},
   "outputs": [],
   "source": []
  }
 ],
 "metadata": {
  "kernelspec": {
   "display_name": "Python 3 (ipykernel)",
   "language": "python",
   "name": "python3"
  },
  "language_info": {
   "codemirror_mode": {
    "name": "ipython",
    "version": 3
   },
   "file_extension": ".py",
   "mimetype": "text/x-python",
   "name": "python",
   "nbconvert_exporter": "python",
   "pygments_lexer": "ipython3",
   "version": "3.9.12"
  }
 },
 "nbformat": 4,
 "nbformat_minor": 5
}
