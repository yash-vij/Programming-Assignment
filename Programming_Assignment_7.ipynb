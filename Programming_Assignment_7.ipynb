{
 "cells": [
  {
   "cell_type": "markdown",
   "id": "721db47a",
   "metadata": {},
   "source": [
    "# Write a Python Program to find sum of array"
   ]
  },
  {
   "cell_type": "code",
   "execution_count": 44,
   "id": "9541ad69",
   "metadata": {},
   "outputs": [
    {
     "name": "stdout",
     "output_type": "stream",
     "text": [
      "Enter the size of array : 5\n",
      "Enter array element : \n",
      "45\n",
      "45\n",
      "12\n",
      "87\n",
      "89\n",
      "Sum of the array is :  278\n"
     ]
    }
   ],
   "source": [
    "import numpy as np\n",
    "\n",
    "sum = 0\n",
    "a = int(input(\"Enter the size of array : \"))\n",
    "arr = np.empty(a)\n",
    "print(\"Enter array element : \")\n",
    "for i in range(0,a):\n",
    "    ele = int(input())\n",
    "    arr = np.append(arr,ele)\n",
    "    sum = sum + ele\n",
    "print(\"Sum of the array is : \",sum)    "
   ]
  },
  {
   "cell_type": "markdown",
   "id": "aa862e6c",
   "metadata": {},
   "source": [
    "# Write a Python Program to find largest element in an array."
   ]
  },
  {
   "cell_type": "code",
   "execution_count": 45,
   "id": "fd6305a5",
   "metadata": {},
   "outputs": [
    {
     "name": "stdout",
     "output_type": "stream",
     "text": [
      "Largest element of the array is :  98\n"
     ]
    }
   ],
   "source": [
    "arr1 = np.array([12,54,32,65,98,78,45,2,21])\n",
    "lar = arr1[0]\n",
    "size = np.size(arr1)\n",
    "for i in  range(1,size) :\n",
    "    \n",
    "    if arr1[i] > lar:\n",
    "        lar = arr1[i]\n",
    "       \n",
    "print(\"Largest element of the array is : \",int(lar))        \n"
   ]
  },
  {
   "cell_type": "markdown",
   "id": "b03ed6e2",
   "metadata": {},
   "source": [
    "# Write a Python Program for array rotation."
   ]
  },
  {
   "cell_type": "code",
   "execution_count": 46,
   "id": "c2c52862",
   "metadata": {},
   "outputs": [
    {
     "name": "stdout",
     "output_type": "stream",
     "text": [
      "The array is :  [12 45 23 56 12 45 12 65 98]\n",
      "Reverse of the array is :  [98 65 12 45 12 56 23 45 12]\n"
     ]
    }
   ],
   "source": [
    "arr2 = np.array([12,45,23,56,12,45,12,65,98])\n",
    "print(\"The array is : \",arr2)\n",
    "li = arr2.tolist()\n",
    "li = li[::-1]\n",
    "arr2 = np.array(li)\n",
    "print(\"Reverse of the array is : \",arr2)"
   ]
  },
  {
   "cell_type": "markdown",
   "id": "b9709b6c",
   "metadata": {},
   "source": [
    "# Write a Python Program to Split the array and add the first part to the end."
   ]
  },
  {
   "cell_type": "code",
   "execution_count": 47,
   "id": "a0f91761",
   "metadata": {},
   "outputs": [
    {
     "name": "stdout",
     "output_type": "stream",
     "text": [
      "[   5  565   65    2   32   32   21   56   98 2654  221   56]\n"
     ]
    }
   ],
   "source": [
    "arr3 = np.array([21,56,98,2654,221,56,5,565,65,2,32,32])\n",
    "li1 = arr3.tolist()\n",
    "\n",
    "size = len(li1)\n",
    "half = int(size/2)\n",
    "l1=[]\n",
    "l2=[]\n",
    "for i in range(0,half):\n",
    "    l1.append(li1[i])\n",
    "for i in range(half,size):\n",
    "    l2.append(li1[i])\n",
    "new_li = l2+l1\n",
    "new_arr = np.array(new_li)\n",
    "print(new_arr)"
   ]
  },
  {
   "cell_type": "markdown",
   "id": "a149c9e2",
   "metadata": {},
   "source": [
    "# Write a Python Program to check if given array is Monotonic."
   ]
  },
  {
   "cell_type": "code",
   "execution_count": 52,
   "id": "bf5c687d",
   "metadata": {},
   "outputs": [
    {
     "name": "stdout",
     "output_type": "stream",
     "text": [
      "Array is monotonic\n"
     ]
    }
   ],
   "source": [
    "arr4 = np.array([1,2,3,4,5,6,7,8,9])\n",
    "l4 = arr4.tolist()\n",
    "l5, l6 = [],[]\n",
    "l5.extend(l4)\n",
    "l6.extend(l5)\n",
    "l5.sort()\n",
    "l6.sort(reverse=True)\n",
    "if(l5 == l4 or l6 == l4):\n",
    "    print(\"Array is monotonic\")\n",
    "else:\n",
    "    print(\"Array is not monotonic\")"
   ]
  },
  {
   "cell_type": "code",
   "execution_count": null,
   "id": "ec058911",
   "metadata": {},
   "outputs": [],
   "source": []
  }
 ],
 "metadata": {
  "kernelspec": {
   "display_name": "Python 3 (ipykernel)",
   "language": "python",
   "name": "python3"
  },
  "language_info": {
   "codemirror_mode": {
    "name": "ipython",
    "version": 3
   },
   "file_extension": ".py",
   "mimetype": "text/x-python",
   "name": "python",
   "nbconvert_exporter": "python",
   "pygments_lexer": "ipython3",
   "version": "3.10.6"
  }
 },
 "nbformat": 4,
 "nbformat_minor": 5
}
