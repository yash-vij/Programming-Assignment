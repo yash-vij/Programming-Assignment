{
 "cells": [
  {
   "cell_type": "markdown",
   "id": "3ed9d972",
   "metadata": {},
   "source": [
    "### Question 1:\n",
    "Please write a program using generator to print the numbers which can be divisible by 5 and 7 between 0 and n in comma separated form while n is input by console.\n",
    "Example:\n",
    "If the following n is given as input to the program:\n",
    "100\n",
    "Then, the output of the program should be:\n",
    "0,35,70"
   ]
  },
  {
   "cell_type": "code",
   "execution_count": 15,
   "id": "9f8d5907",
   "metadata": {},
   "outputs": [
    {
     "name": "stdout",
     "output_type": "stream",
     "text": [
      "Enter the range : 100\n",
      "0,35,70\n"
     ]
    }
   ],
   "source": [
    "def NumDivisor(n):\n",
    "    for i in range(0,n+1):\n",
    "        if i % 5 == 0 and i % 7 == 0:\n",
    "            yield i\n",
    "l = []            \n",
    "n = int(input(\"Enter the range : \"))\n",
    "for j in NumDivisor(n):\n",
    "    l.append(str(j))\n",
    "print (\",\".join(l))"
   ]
  },
  {
   "cell_type": "markdown",
   "id": "10fcab16",
   "metadata": {},
   "source": [
    "### Question 2:\n",
    "Please write a program using generator to print the even numbers between 0 and n in comma separated form while n is input by console.\n",
    "Example:\n",
    "If the following n is given as input to the program:\n",
    "10\n",
    "Then, the output of the program should be:\n",
    "0,2,4,6,8,10\n"
   ]
  },
  {
   "cell_type": "code",
   "execution_count": 17,
   "id": "ae6036f9",
   "metadata": {},
   "outputs": [
    {
     "name": "stdout",
     "output_type": "stream",
     "text": [
      "Enter the range : 100\n",
      "0,2,4,6,8,10,12,14,16,18,20,22,24,26,28,30,32,34,36,38,40,42,44,46,48,50,52,54,56,58,60,62,64,66,68,70,72,74,76,78,80,82,84,86,88,90,92,94,96,98\n"
     ]
    }
   ],
   "source": [
    "def evenNumber(n):\n",
    "    for i in range(0,n):\n",
    "        if i%2 == 0:\n",
    "            yield i\n",
    "l1 = []\n",
    "m = int(input(\"Enter the range : \"))\n",
    "for i in evenNumber(m):\n",
    "    l1.append(str(i))\n",
    "print(\",\".join(l1))    "
   ]
  },
  {
   "cell_type": "markdown",
   "id": "3c07c4ce",
   "metadata": {},
   "source": [
    "### Question 3:\n",
    "The Fibonacci Sequence is computed based on the following formula:\n",
    "f(n)=0 if n=0\n",
    "f(n)=1 if n=1\n",
    "f(n)=f(n-1)+f(n-2) if n>1\n",
    "Please write a program using list comprehension to print the Fibonacci Sequence in comma separated form with a given n input by console.\n",
    "Example:\n",
    "If the following n is given as input to the program:\n",
    "7\n",
    "\n",
    "Then, the output of the program should be:\n",
    "0,1,1,2,3,5,8,13\n"
   ]
  },
  {
   "cell_type": "code",
   "execution_count": 32,
   "id": "2f405f3b",
   "metadata": {},
   "outputs": [
    {
     "name": "stdout",
     "output_type": "stream",
     "text": [
      "Enter te range : 10\n",
      "0,1,1,2,3,5,8,13,21,34\n"
     ]
    }
   ],
   "source": [
    "n = int(input(\"Enter te range : \"))\n",
    "fib = [0, 1]\n",
    "[fib.append(fib[x-1]+fib[x-2]) for x in range(2,n)]\n",
    "\n",
    "fib_series = ','.join(map(str,fib))\n",
    "print(fib_series)"
   ]
  },
  {
   "cell_type": "markdown",
   "id": "301150c0",
   "metadata": {},
   "source": [
    "### Question 4:\n",
    "Assuming that we have some email addresses in the \"username@companyname.com\" format, please write program to print the user name of a given email address. Both user names and company names are composed of letters only.\n",
    "Example:\n",
    "If the following email address is given as input to the program:\n",
    "john@google.com\n",
    "Then, the output of the program should be:\n",
    "john\n"
   ]
  },
  {
   "cell_type": "code",
   "execution_count": 42,
   "id": "a7b48aa3",
   "metadata": {},
   "outputs": [
    {
     "name": "stdout",
     "output_type": "stream",
     "text": [
      "Enter the user email ID : Yashvij@gmail.com\n",
      "User name is :  Yashvij\n"
     ]
    }
   ],
   "source": [
    "def name_from_mail(email_id):\n",
    "    name = [n for n in email_id]\n",
    "    lis = []\n",
    "    for i in name:\n",
    "        if i == \"@\":\n",
    "            break\n",
    "        else:\n",
    "            lis.append(i)\n",
    "    lis = \"\".join(lis)\n",
    "    return lis\n",
    "n = input(\"Enter the user email ID : \")\n",
    "name = name_from_mail(n)\n",
    "print(\"User name is : \",name)"
   ]
  },
  {
   "cell_type": "markdown",
   "id": "90475d78",
   "metadata": {},
   "source": [
    "### Question 5:\n",
    "Define a class named Shape and its subclass Square. The Square class has an init function which takes a length as argument. Both classes have a area function which can print the area of the shape where Shape's area is 0 by default.\n"
   ]
  },
  {
   "cell_type": "code",
   "execution_count": 49,
   "id": "8b9dd886",
   "metadata": {},
   "outputs": [
    {
     "name": "stdout",
     "output_type": "stream",
     "text": [
      "100\n",
      "200\n"
     ]
    }
   ],
   "source": [
    "class Shape:\n",
    "    def Area(self,l = 0):\n",
    "        area = 2*l*l\n",
    "        return area\n",
    "        \n",
    "\n",
    "class Square(Shape):\n",
    "    def __init__(self,length=0):\n",
    "        self.length = length\n",
    "    def Area(self,l = 0):\n",
    "        area = l*l\n",
    "        return area\n",
    "area1 = Square()\n",
    "print(area1.Area(10))\n",
    "area2 = Shape()\n",
    "print(area2.Area(10))"
   ]
  },
  {
   "cell_type": "code",
   "execution_count": null,
   "id": "60fc6bd2",
   "metadata": {},
   "outputs": [],
   "source": []
  }
 ],
 "metadata": {
  "kernelspec": {
   "display_name": "Python 3 (ipykernel)",
   "language": "python",
   "name": "python3"
  },
  "language_info": {
   "codemirror_mode": {
    "name": "ipython",
    "version": 3
   },
   "file_extension": ".py",
   "mimetype": "text/x-python",
   "name": "python",
   "nbconvert_exporter": "python",
   "pygments_lexer": "ipython3",
   "version": "3.9.12"
  }
 },
 "nbformat": 4,
 "nbformat_minor": 5
}
