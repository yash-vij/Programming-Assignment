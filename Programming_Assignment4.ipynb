{
 "cells": [
  {
   "cell_type": "markdown",
   "id": "8b541ba5",
   "metadata": {},
   "source": [
    "1. Write a Python Program to Find the Factorial of a Number."
   ]
  },
  {
   "cell_type": "code",
   "execution_count": 4,
   "id": "70eebb03",
   "metadata": {},
   "outputs": [
    {
     "name": "stdout",
     "output_type": "stream",
     "text": [
      "Enter the number : 10\n",
      "Factorial is :  3628800\n"
     ]
    }
   ],
   "source": [
    "a = int(input(\"Enter the number : \"))\n",
    "fact = 1\n",
    "for i in range(a,0,-1):\n",
    "    fact = fact * i\n",
    "print(\"Factorial is : \",fact)    "
   ]
  },
  {
   "cell_type": "markdown",
   "id": "6e626b2b",
   "metadata": {},
   "source": [
    "2. Write a Python Program to Display the multiplication Table."
   ]
  },
  {
   "cell_type": "code",
   "execution_count": 7,
   "id": "bef1f3dc",
   "metadata": {},
   "outputs": [
    {
     "name": "stdout",
     "output_type": "stream",
     "text": [
      "Enter the number : 27\n",
      "Table of  27  is : \n",
      "27  *  1  =  27\n",
      "27  *  2  =  54\n",
      "27  *  3  =  81\n",
      "27  *  4  =  108\n",
      "27  *  5  =  135\n",
      "27  *  6  =  162\n",
      "27  *  7  =  189\n",
      "27  *  8  =  216\n",
      "27  *  9  =  243\n",
      "27  *  10  =  270\n"
     ]
    }
   ],
   "source": [
    "a = int(input(\"Enter the number : \"))\n",
    "print(\"Table of \",a,\" is : \")\n",
    "for i in range(1,11):\n",
    "    print(a,\" * \",i,\" = \",a*i)\n",
    "    "
   ]
  },
  {
   "cell_type": "markdown",
   "id": "43707110",
   "metadata": {},
   "source": [
    "3. Write a Python Program to Print the Fibonacci sequence"
   ]
  },
  {
   "cell_type": "code",
   "execution_count": 14,
   "id": "6ff8995d",
   "metadata": {},
   "outputs": [
    {
     "name": "stdout",
     "output_type": "stream",
     "text": [
      "Enter the size of series : 20\n",
      "[0, 1, 1, 2, 3, 5, 8, 13, 21, 34, 55, 89, 144, 233, 377, 610, 987, 1597, 2584, 4181]\n"
     ]
    }
   ],
   "source": [
    "l = [0,1]\n",
    "s = int(input(\"Enter the size of series : \"))\n",
    "for i in range(2,s):\n",
    "    ele = l[i-1]+l[i-2]\n",
    "    l.append(ele)\n",
    "print(l)    "
   ]
  },
  {
   "cell_type": "markdown",
   "id": "a824a2bf",
   "metadata": {},
   "source": [
    "4. Write a Python Program to Check Armstrong Number."
   ]
  },
  {
   "cell_type": "code",
   "execution_count": 23,
   "id": "0811adb9",
   "metadata": {},
   "outputs": [
    {
     "name": "stdout",
     "output_type": "stream",
     "text": [
      "Enter number : 153\n",
      "27\n",
      "152\n",
      "153\n",
      "Armstrong number\n"
     ]
    }
   ],
   "source": [
    "a = int(input(\"Enter number : \"))\n",
    "b = a\n",
    "sum = 0\n",
    "while a/1 != 0:\n",
    "    digit = a % 10 \n",
    "    \n",
    "    sum = sum+ (digit*digit*digit)\n",
    "    print(sum)\n",
    "    a = int(a / 10)\n",
    "    \n",
    "if b == sum : \n",
    "    print(\"Armstrong number\")\n",
    "else:\n",
    "    print(\"Not a Armstrong number\")"
   ]
  },
  {
   "cell_type": "markdown",
   "id": "dca5ae0e",
   "metadata": {},
   "source": [
    "5. Write a Python Program to Find Armstrong Number in an Interval."
   ]
  },
  {
   "cell_type": "code",
   "execution_count": 31,
   "id": "5d93cd2f",
   "metadata": {},
   "outputs": [
    {
     "name": "stdout",
     "output_type": "stream",
     "text": [
      "Enter the left interval : 100\n",
      "Enter the right interval : 300000\n",
      "[153, 370, 371, 407]\n"
     ]
    }
   ],
   "source": [
    "arm = []\n",
    "a = int(input(\"Enter the left interval : \"))\n",
    "c = int(input(\"Enter the right interval : \"))\n",
    "for i in range(a,c+1):\n",
    "    b = i\n",
    "    sum = 0 \n",
    "    while i/1 != 0:\n",
    "        digit = i % 10\n",
    "        sum = sum + (digit*digit*digit )\n",
    "        i = int(i/10)\n",
    "    if b == sum: \n",
    "        arm.append(b)\n",
    "print(arm)"
   ]
  },
  {
   "cell_type": "markdown",
   "id": "b7395598",
   "metadata": {},
   "source": [
    "6. Write a Python Program to Find the Sum of Natural Numbers."
   ]
  },
  {
   "cell_type": "code",
   "execution_count": 44,
   "id": "b7436e34",
   "metadata": {},
   "outputs": [
    {
     "name": "stdout",
     "output_type": "stream",
     "text": [
      "Enter the size : 50\n",
      "Sum till number  1  :  0  +  1  =  1\n",
      "Sum till number  2  :  1  +  2  =  3\n",
      "Sum till number  3  :  3  +  3  =  6\n",
      "Sum till number  4  :  6  +  4  =  10\n",
      "Sum till number  5  :  10  +  5  =  15\n",
      "Sum till number  6  :  15  +  6  =  21\n",
      "Sum till number  7  :  21  +  7  =  28\n",
      "Sum till number  8  :  28  +  8  =  36\n",
      "Sum till number  9  :  36  +  9  =  45\n",
      "Sum till number  10  :  45  +  10  =  55\n",
      "Sum till number  11  :  55  +  11  =  66\n",
      "Sum till number  12  :  66  +  12  =  78\n",
      "Sum till number  13  :  78  +  13  =  91\n",
      "Sum till number  14  :  91  +  14  =  105\n",
      "Sum till number  15  :  105  +  15  =  120\n",
      "Sum till number  16  :  120  +  16  =  136\n",
      "Sum till number  17  :  136  +  17  =  153\n",
      "Sum till number  18  :  153  +  18  =  171\n",
      "Sum till number  19  :  171  +  19  =  190\n",
      "Sum till number  20  :  190  +  20  =  210\n",
      "Sum till number  21  :  210  +  21  =  231\n",
      "Sum till number  22  :  231  +  22  =  253\n",
      "Sum till number  23  :  253  +  23  =  276\n",
      "Sum till number  24  :  276  +  24  =  300\n",
      "Sum till number  25  :  300  +  25  =  325\n",
      "Sum till number  26  :  325  +  26  =  351\n",
      "Sum till number  27  :  351  +  27  =  378\n",
      "Sum till number  28  :  378  +  28  =  406\n",
      "Sum till number  29  :  406  +  29  =  435\n",
      "Sum till number  30  :  435  +  30  =  465\n",
      "Sum till number  31  :  465  +  31  =  496\n",
      "Sum till number  32  :  496  +  32  =  528\n",
      "Sum till number  33  :  528  +  33  =  561\n",
      "Sum till number  34  :  561  +  34  =  595\n",
      "Sum till number  35  :  595  +  35  =  630\n",
      "Sum till number  36  :  630  +  36  =  666\n",
      "Sum till number  37  :  666  +  37  =  703\n",
      "Sum till number  38  :  703  +  38  =  741\n",
      "Sum till number  39  :  741  +  39  =  780\n",
      "Sum till number  40  :  780  +  40  =  820\n",
      "Sum till number  41  :  820  +  41  =  861\n",
      "Sum till number  42  :  861  +  42  =  903\n",
      "Sum till number  43  :  903  +  43  =  946\n",
      "Sum till number  44  :  946  +  44  =  990\n",
      "Sum till number  45  :  990  +  45  =  1035\n",
      "Sum till number  46  :  1035  +  46  =  1081\n",
      "Sum till number  47  :  1081  +  47  =  1128\n",
      "Sum till number  48  :  1128  +  48  =  1176\n",
      "Sum till number  49  :  1176  +  49  =  1225\n",
      "Sum till number  50  :  1225  +  50  =  1275\n",
      "1275\n"
     ]
    }
   ],
   "source": [
    "a = int(input(\"Enter the size : \"))\n",
    "sum = 0\n",
    "for i in range(1,a+1):\n",
    "    #sum = sum + i\n",
    "    print(\"Sum till number \",i,\" : \",sum,\" + \",i,\" = \",sum+i)\n",
    "    sum = sum+i\n",
    "print(sum)    "
   ]
  },
  {
   "cell_type": "code",
   "execution_count": null,
   "id": "7baba1d0",
   "metadata": {},
   "outputs": [],
   "source": []
  }
 ],
 "metadata": {
  "kernelspec": {
   "display_name": "Python 3 (ipykernel)",
   "language": "python",
   "name": "python3"
  },
  "language_info": {
   "codemirror_mode": {
    "name": "ipython",
    "version": 3
   },
   "file_extension": ".py",
   "mimetype": "text/x-python",
   "name": "python",
   "nbconvert_exporter": "python",
   "pygments_lexer": "ipython3",
   "version": "3.10.6"
  }
 },
 "nbformat": 4,
 "nbformat_minor": 5
}
