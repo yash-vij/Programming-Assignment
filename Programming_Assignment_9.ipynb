{
 "cells": [
  {
   "cell_type": "markdown",
   "id": "47bca71a",
   "metadata": {},
   "source": [
    "# Write a Python program to check if the given number is a Disarium Number."
   ]
  },
  {
   "cell_type": "code",
   "execution_count": 10,
   "id": "bf598b94",
   "metadata": {},
   "outputs": [
    {
     "name": "stdout",
     "output_type": "stream",
     "text": [
      "Enter the number : 135\n",
      "Number is Disarium\n"
     ]
    }
   ],
   "source": [
    "num = int(input(\"Enter the number : \"))\n",
    "num2 = num\n",
    "size = len(str(num))\n",
    "sum = 0\n",
    "while size >0:\n",
    "    m = num%10\n",
    "    sum = sum + (m**size)\n",
    "    num = int(num /10)\n",
    "    size -= 1\n",
    "if num2 == sum:\n",
    "    print(\"Number is Disarium\")\n",
    "else:\n",
    "    print(\"Number is not disarium\")"
   ]
  },
  {
   "cell_type": "markdown",
   "id": "59490506",
   "metadata": {},
   "source": [
    "# Write a Python program to print all disarium numbers between 1 to 100."
   ]
  },
  {
   "cell_type": "code",
   "execution_count": 11,
   "id": "340dce54",
   "metadata": {},
   "outputs": [
    {
     "name": "stdout",
     "output_type": "stream",
     "text": [
      "1  \n",
      "2  \n",
      "3  \n",
      "4  \n",
      "5  \n",
      "6  \n",
      "7  \n",
      "8  \n",
      "9  \n",
      "89  \n"
     ]
    }
   ],
   "source": [
    "for i in range(1,101):\n",
    "    num2 = i\n",
    "    size = len(str(i))\n",
    "    sum = 0\n",
    "    while size >0:\n",
    "        m = i%10\n",
    "        sum = sum + (m**size)\n",
    "        i = int(i /10)\n",
    "        size -= 1\n",
    "    if num2 == sum:\n",
    "        print(num2,\" \")"
   ]
  },
  {
   "cell_type": "markdown",
   "id": "efb6ce7b",
   "metadata": {},
   "source": [
    "# Write a Python program to check if the given number is Happy Number."
   ]
  },
  {
   "cell_type": "code",
   "execution_count": 21,
   "id": "c2cd2a73",
   "metadata": {},
   "outputs": [
    {
     "name": "stdout",
     "output_type": "stream",
     "text": [
      "Enter the number : 68\n",
      "100\n",
      "1\n",
      "Number is a Happy number.\n"
     ]
    }
   ],
   "source": [
    "num = int(input(\"Enter the number : \"))\n",
    "lis = []\n",
    "\n",
    "a=0\n",
    "while(a == 0):\n",
    "    sum=0\n",
    "    while(num > 0):\n",
    "        dig = num % 10\n",
    "        sum = sum + (dig**2)\n",
    "        num = int(num/10)  \n",
    "    print(sum)    \n",
    "    if(sum in lis or sum == 1):\n",
    "        a = 1\n",
    "    else:\n",
    "        si = len(lis)\n",
    "        lis.insert(si,sum)\n",
    "        num = sum    \n",
    "if(sum == 1):\n",
    "    print(\"Number is a Happy number.\")\n",
    "else:\n",
    "    print(\"Number is not a Happy number.\")"
   ]
  },
  {
   "cell_type": "markdown",
   "id": "d5a53d3c",
   "metadata": {},
   "source": [
    "# Write a Python program to print all happy numbers between 1 and 100."
   ]
  },
  {
   "cell_type": "code",
   "execution_count": 18,
   "id": "d04bd240",
   "metadata": {},
   "outputs": [
    {
     "name": "stdout",
     "output_type": "stream",
     "text": [
      "[1, 7, 10, 13, 19, 23, 28, 31, 32, 44, 49, 68, 70, 79, 82, 86, 91, 94, 97, 100]\n"
     ]
    }
   ],
   "source": [
    "li = []\n",
    "for i in range(1,101):\n",
    "    num = i\n",
    "    lis = []\n",
    "    a=0\n",
    "    while(a == 0):\n",
    "        sum=0\n",
    "        while(num > 0):\n",
    "            dig = num % 10\n",
    "            sum = sum + (dig**2)\n",
    "            num = int(num/10)    \n",
    "        if(sum in lis or sum == 1):\n",
    "            a = 1\n",
    "        if(sum == 1):\n",
    "            li.append(i)\n",
    "        else:\n",
    "            si = len(lis)\n",
    "            lis.insert(si,sum)\n",
    "            num = sum\n",
    "    \n",
    "print(li)            "
   ]
  },
  {
   "cell_type": "markdown",
   "id": "1f75354c",
   "metadata": {},
   "source": [
    "# Write a Python program to determine whether the given number is a Harshad Number."
   ]
  },
  {
   "cell_type": "code",
   "execution_count": 28,
   "id": "899d73fa",
   "metadata": {},
   "outputs": [
    {
     "name": "stdout",
     "output_type": "stream",
     "text": [
      "Enter the number : 18\n",
      "Number is a Harshad number.\n"
     ]
    }
   ],
   "source": [
    "num = int(input(\"Enter the number : \"))\n",
    "num1 = num\n",
    "sum = 0\n",
    "while(num > 0):\n",
    "    dig = num%10\n",
    "    sum = sum + dig\n",
    "    num = int(num/10)   \n",
    "if(num1% sum == 0):\n",
    "    print(\"Number is a Harshad number.\")\n",
    "else:    \n",
    "    print(\"Number is not a Harshad number.\")"
   ]
  },
  {
   "cell_type": "markdown",
   "id": "ec06bee4",
   "metadata": {},
   "source": [
    "# Write a Python program to print all pronic numbers between 1 and 100?\n"
   ]
  },
  {
   "cell_type": "code",
   "execution_count": 29,
   "id": "dba5a14f",
   "metadata": {},
   "outputs": [
    {
     "name": "stdout",
     "output_type": "stream",
     "text": [
      "[1, 2, 3, 4, 5, 6, 7, 8, 9, 10, 12, 18, 20, 21, 24, 27, 30, 36, 40, 42, 45, 48, 50, 54, 60, 63, 70, 72, 80, 81, 84, 90, 100]\n"
     ]
    }
   ],
   "source": [
    "li2 = []\n",
    "for i in range(1,101):\n",
    "    num = i\n",
    "    sum = 0\n",
    "    while(num > 0):\n",
    "        dig = num%10\n",
    "        sum = sum + dig\n",
    "        num = int(num/10)   \n",
    "    if(i % sum == 0):\n",
    "        li2.append(i)\n",
    "print(li2)        "
   ]
  },
  {
   "cell_type": "code",
   "execution_count": null,
   "id": "43ea3eb3",
   "metadata": {},
   "outputs": [],
   "source": []
  }
 ],
 "metadata": {
  "kernelspec": {
   "display_name": "Python 3 (ipykernel)",
   "language": "python",
   "name": "python3"
  },
  "language_info": {
   "codemirror_mode": {
    "name": "ipython",
    "version": 3
   },
   "file_extension": ".py",
   "mimetype": "text/x-python",
   "name": "python",
   "nbconvert_exporter": "python",
   "pygments_lexer": "ipython3",
   "version": "3.9.12"
  }
 },
 "nbformat": 4,
 "nbformat_minor": 5
}
